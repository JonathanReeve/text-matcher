{
 "cells": [
  {
   "cell_type": "markdown",
   "metadata": {},
   "source": [
    "# Experiment 0 Annotator\n",
    "\n",
    "This annotates the text with the number of times that passage has been quoted. "
   ]
  },
  {
   "cell_type": "code",
   "execution_count": 21,
   "metadata": {
    "collapsed": true
   },
   "outputs": [],
   "source": [
    "import pandas as pd\n",
    "import nltk\n",
    "%matplotlib inline\n",
    "import math\n",
    "from ast import literal_eval\n",
    "import numpy as np\n",
    "import re\n",
    "from matplotlib import pyplot as plt\n",
    "from colour import Color\n",
    "from IPython.core.display import HTML\n",
    "from matplotlib import cm\n",
    "from matplotlib.colors import rgb2hex\n",
    "plt.rcParams[\"figure.figsize\"] = [16, 6]"
   ]
  },
  {
   "cell_type": "code",
   "execution_count": 22,
   "metadata": {
    "collapsed": false
   },
   "outputs": [
    {
     "data": {
      "text/html": [
       "<div>\n",
       "<style scoped>\n",
       "    .dataframe tbody tr th:only-of-type {\n",
       "        vertical-align: middle;\n",
       "    }\n",
       "\n",
       "    .dataframe tbody tr th {\n",
       "        vertical-align: top;\n",
       "    }\n",
       "\n",
       "    .dataframe thead th {\n",
       "        text-align: right;\n",
       "    }\n",
       "</style>\n",
       "<table border=\"1\" class=\"dataframe\">\n",
       "  <thead>\n",
       "    <tr style=\"text-align: right;\">\n",
       "      <th></th>\n",
       "      <th>Text A</th>\n",
       "      <th>Text B</th>\n",
       "      <th>Threshold</th>\n",
       "      <th>Cutoff</th>\n",
       "      <th>N-Grams</th>\n",
       "      <th>Num Matches</th>\n",
       "      <th>Text A Length</th>\n",
       "      <th>Text B Length</th>\n",
       "      <th>Locations in A</th>\n",
       "      <th>Locations in B</th>\n",
       "    </tr>\n",
       "  </thead>\n",
       "  <tbody>\n",
       "    <tr>\n",
       "      <th>0</th>\n",
       "      <td>gendertrouble.txt</td>\n",
       "      <td>gender_texts/THE EMPERORS NE.txt</td>\n",
       "      <td>3</td>\n",
       "      <td>5</td>\n",
       "      <td>3</td>\n",
       "      <td>1</td>\n",
       "      <td>535054</td>\n",
       "      <td>45970</td>\n",
       "      <td>[(437197, 437306)]</td>\n",
       "      <td>[(34199, 34308)]</td>\n",
       "    </tr>\n",
       "    <tr>\n",
       "      <th>1</th>\n",
       "      <td>gendertrouble.txt</td>\n",
       "      <td>gender_texts/QUEERNESS AT SH.txt</td>\n",
       "      <td>3</td>\n",
       "      <td>5</td>\n",
       "      <td>3</td>\n",
       "      <td>1</td>\n",
       "      <td>535054</td>\n",
       "      <td>58719</td>\n",
       "      <td>[(120176, 120440)]</td>\n",
       "      <td>[(4653, 4920)]</td>\n",
       "    </tr>\n",
       "    <tr>\n",
       "      <th>2</th>\n",
       "      <td>gendertrouble.txt</td>\n",
       "      <td>gender_texts/From Sodomy to .txt</td>\n",
       "      <td>3</td>\n",
       "      <td>5</td>\n",
       "      <td>3</td>\n",
       "      <td>1</td>\n",
       "      <td>535054</td>\n",
       "      <td>81840</td>\n",
       "      <td>[(790, 864)]</td>\n",
       "      <td>[(74227, 74304)]</td>\n",
       "    </tr>\n",
       "    <tr>\n",
       "      <th>3</th>\n",
       "      <td>gendertrouble.txt</td>\n",
       "      <td>gender_texts/Two Strikes and.txt</td>\n",
       "      <td>3</td>\n",
       "      <td>5</td>\n",
       "      <td>3</td>\n",
       "      <td>1</td>\n",
       "      <td>535054</td>\n",
       "      <td>56002</td>\n",
       "      <td>[(790, 864)]</td>\n",
       "      <td>[(52436, 52513)]</td>\n",
       "    </tr>\n",
       "    <tr>\n",
       "      <th>4</th>\n",
       "      <td>gendertrouble.txt</td>\n",
       "      <td>gender_texts/Inclusion and t.txt</td>\n",
       "      <td>3</td>\n",
       "      <td>5</td>\n",
       "      <td>3</td>\n",
       "      <td>1</td>\n",
       "      <td>535054</td>\n",
       "      <td>35376</td>\n",
       "      <td>[(479445, 479510)]</td>\n",
       "      <td>[(33058, 33123)]</td>\n",
       "    </tr>\n",
       "  </tbody>\n",
       "</table>\n",
       "</div>"
      ],
      "text/plain": [
       "              Text A                            Text B  Threshold  Cutoff  \\\n",
       "0  gendertrouble.txt  gender_texts/THE EMPERORS NE.txt          3       5   \n",
       "1  gendertrouble.txt  gender_texts/QUEERNESS AT SH.txt          3       5   \n",
       "2  gendertrouble.txt  gender_texts/From Sodomy to .txt          3       5   \n",
       "3  gendertrouble.txt  gender_texts/Two Strikes and.txt          3       5   \n",
       "4  gendertrouble.txt  gender_texts/Inclusion and t.txt          3       5   \n",
       "\n",
       "   N-Grams  Num Matches  Text A Length  Text B Length      Locations in A  \\\n",
       "0        3            1         535054          45970  [(437197, 437306)]   \n",
       "1        3            1         535054          58719  [(120176, 120440)]   \n",
       "2        3            1         535054          81840        [(790, 864)]   \n",
       "3        3            1         535054          56002        [(790, 864)]   \n",
       "4        3            1         535054          35376  [(479445, 479510)]   \n",
       "\n",
       "     Locations in B  \n",
       "0  [(34199, 34308)]  \n",
       "1    [(4653, 4920)]  \n",
       "2  [(74227, 74304)]  \n",
       "3  [(52436, 52513)]  \n",
       "4  [(33058, 33123)]  "
      ]
     },
     "execution_count": 22,
     "metadata": {},
     "output_type": "execute_result"
    }
   ],
   "source": [
    "df = pd.read_csv('log.csv')\n",
    "df.head()"
   ]
  },
  {
   "cell_type": "code",
   "execution_count": 23,
   "metadata": {
    "collapsed": true
   },
   "outputs": [],
   "source": [
    "# Adapted from text-matcher\n",
    "class Text: \n",
    "    def __init__(self, filename): \n",
    "        self.filename = filename\n",
    "        \n",
    "    @property\n",
    "    def text(self):\n",
    "        \"\"\" Reads the file in memory. \"\"\"\n",
    "        f = open(self.filename, encoding='utf-8', errors='ignore')\n",
    "        return f.read() \n",
    "\n",
    "    @property\n",
    "    def tokens(self, removeStopwords=True): \n",
    "        \"\"\" Tokenizes the text, breaking it up into words, removing punctuation. \"\"\"\n",
    "        tokenizer = nltk.RegexpTokenizer('[a-zA-Z]\\w+\\'?\\w*') # A custom regex tokenizer. \n",
    "        spans = list(tokenizer.span_tokenize(self.text))\n",
    "        # Take note of how many spans there are in the text\n",
    "        self.length = spans[-1][-1] \n",
    "        tokens = tokenizer.tokenize(self.text)\n",
    "        tokens = [ token.lower() for token in tokens ] # make them lowercase\n",
    "        if not removeStopwords: \n",
    "            self.spans = spans\n",
    "            return tokens\n",
    "        tokenSpans = list(zip(tokens, spans)) # zip it up\n",
    "        stopwords = nltk.corpus.stopwords.words('english') # get stopwords\n",
    "        tokenSpans = [ token for token in tokenSpans if token[0] not in stopwords ] # remove stopwords from zip\n",
    "        self.spans = [ x[1] for x in tokenSpans ] # unzip; get spans\n",
    "        return [ x[0] for x in tokenSpans ] # unzip; get tokens"
   ]
  },
  {
   "cell_type": "code",
   "execution_count": 24,
   "metadata": {
    "collapsed": false
   },
   "outputs": [],
   "source": [
    "mm = Text('gendertrouble.txt')"
   ]
  },
  {
   "cell_type": "code",
   "execution_count": 25,
   "metadata": {
    "collapsed": false
   },
   "outputs": [
    {
     "name": "stderr",
     "output_type": "stream",
     "text": [
      "/var/folders/_g/ykvg1w8n5g7f967fyjqxrpgc0000gn/T/ipykernel_1243/1050344303.py:10: DeprecationWarning: `np.int` is a deprecated alias for the builtin `int`. To silence this warning, use `int` by itself. Doing this will not modify any behavior and is safe. When replacing `np.int`, you may wish to use e.g. `np.int64` or `np.int32` to specify the precision. If you wish to review your current use, check the release note link for additional information.\n",
      "Deprecated in NumPy 1.20; for more details and guidance: https://numpy.org/devdocs/release/1.20.0-notes.html#deprecations\n",
      "  tally = np.zeros(textALength, dtype=np.int)\n"
     ]
    }
   ],
   "source": [
    "# Get the size of the text. \n",
    "textALength = df['Text A Length'][0]\n",
    "\n",
    "# I don't know why, but without the offset the novel ends too soon,\n",
    "# with \"unvisited tomb.\" This fixes it. \n",
    "offset = 2\n",
    "textALength += offset\n",
    "\n",
    "# Make an empty array the size of the text. \n",
    "tally = np.zeros(textALength, dtype=np.int)"
   ]
  },
  {
   "cell_type": "code",
   "execution_count": 26,
   "metadata": {
    "collapsed": false
   },
   "outputs": [
    {
     "data": {
      "text/plain": [
       "535056"
      ]
     },
     "execution_count": 26,
     "metadata": {},
     "output_type": "execute_result"
    }
   ],
   "source": [
    "len(tally)"
   ]
  },
  {
   "cell_type": "code",
   "execution_count": 27,
   "metadata": {
    "collapsed": false
   },
   "outputs": [
    {
     "data": {
      "text/plain": [
       "1"
      ]
     },
     "execution_count": 27,
     "metadata": {},
     "output_type": "execute_result"
    }
   ],
   "source": [
    "min(1,2)"
   ]
  },
  {
   "cell_type": "code",
   "execution_count": 28,
   "metadata": {
    "collapsed": false
   },
   "outputs": [],
   "source": [
    "# Read the locations from the CSV file, and literally evaluate them into lists. \n",
    "locations = df['Locations in A']\n",
    "locations = locations.apply(literal_eval)"
   ]
  },
  {
   "cell_type": "code",
   "execution_count": 29,
   "metadata": {
    "collapsed": false
   },
   "outputs": [],
   "source": [
    "# Tally up every time a letter in the novel is quoted. \n",
    "for article in locations: \n",
    "    for locRange in article: \n",
    "         for i in range(locRange[0], min(locRange[1]+1, len(tally))):\n",
    "                tally[i] += 1"
   ]
  },
  {
   "cell_type": "code",
   "execution_count": null,
   "metadata": {
    "collapsed": false
   },
   "outputs": [],
   "source": [
    "# Make a color list in hex for all the values in the tally. \n",
    "# Let's hope there aren't too many. \n",
    "colors = list(np.arange(5,75,70/(tally.max()+1)))\n",
    "colorList = colors"
   ]
  },
  {
   "cell_type": "code",
   "execution_count": null,
   "metadata": {
    "collapsed": false,
    "scrolled": true
   },
   "outputs": [],
   "source": [
    "# cmax = 16\n",
    "# normalized = [round((i/cmax) * 255) for i in range(cmax)]\n",
    "# print(normalized)\n",
    "# hexes = [rgb2hex(x) for x in cm.gnuplot(normalized)]\n",
    "# colorList = hexes\n",
    "# colorList"
   ]
  },
  {
   "cell_type": "code",
   "execution_count": null,
   "metadata": {
    "collapsed": false
   },
   "outputs": [],
   "source": [
    "# Create a CSS Stylesheet for each color value in the map. \n",
    "colorCSS = \"\"\n",
    "for i, color in zip(range(0, tally.max()+1), colorList): \n",
    "    colorCSS += \".c-%s { font-size: %spx; }\\n\" % (i, color)"
   ]
  },
  {
   "cell_type": "code",
   "execution_count": null,
   "metadata": {
    "collapsed": false
   },
   "outputs": [],
   "source": [
    "n = 50\n",
    "\n",
    "checkpoints = np.linspace(0, textALength, n).round()\n",
    "checkpoints = [int(point) for point in checkpoints]"
   ]
  },
  {
   "cell_type": "code",
   "execution_count": null,
   "metadata": {
    "collapsed": false
   },
   "outputs": [],
   "source": [
    "def span(val): \n",
    "    return '<span class=\"c-%s\">' % val\n",
    "\n",
    "previousVal = None\n",
    "for i, valChar in enumerate(zip(tally, mm.text)):\n",
    "    val, char = valChar[0], valChar[1]\n",
    "    if previousVal == None: \n",
    "        # First character. \n",
    "        out = '<span class=\"c-%s\">' % val\n",
    "    elif val != previousVal: \n",
    "        out += '</span><span class=\"c-%s\">' % val\n",
    "    if i in checkpoints: \n",
    "        out += '<a name=\"b-%s\"></a>' % checkpoints.index(i)\n",
    "    out += char\n",
    "    previousVal = val"
   ]
  },
  {
   "cell_type": "code",
   "execution_count": null,
   "metadata": {
    "collapsed": false
   },
   "outputs": [],
   "source": [
    "# Get dates\n",
    "def getDate(filename): \n",
    "    \"\"\"\n",
    "    Extract dates from filenames. \n",
    "    \"\"\"\n",
    "    m = re.search('_(\\d{4})_', filename)\n",
    "    if m is not None: \n",
    "        return int(m.group(1))\n",
    "    else:\n",
    "        return None\n",
    "\n",
    "df['Date'] = df['Text B'].apply(getDate)\n",
    "df['Decade'] = df['Date'] - (df['Date'] % 10)\n",
    "\n",
    "# Make a list of valid decades. \n",
    "decades = np.arange(1930, 2020, 10)\n",
    "\n",
    "# Make a dictionary of decades. \n",
    "# Values are a list of locations.  \n",
    "decadeDict = {}\n",
    "for i, row in df.iterrows():\n",
    "    decade = row['Decade']\n",
    "    locations = literal_eval(row['Locations in A'])\n",
    "    if decade not in decadeDict: \n",
    "        decadeDict[decade] = locations\n",
    "    else: \n",
    "        decadeDict[decade] += locations \n",
    "        \n",
    "# Grab the beginnings of quotes. \n",
    "decadeStarts = {decade: [item[0] for item in loc] for decade, loc in decadeDict.items()}\n",
    "\n",
    "decadesBinned = {decade: \n",
    "                 np.histogram(locations, bins=n, range=(0, textALength))[0]\n",
    "                 for decade, locations in decadeStarts.items() if decade in decades}\n",
    "\n",
    "decadesDF = pd.DataFrame(decadesBinned).T"
   ]
  },
  {
   "cell_type": "code",
   "execution_count": null,
   "metadata": {
    "collapsed": false
   },
   "outputs": [],
   "source": [
    "# Normalize the totals for each section. \n",
    "normalizedBlocks = decadesDF.sum() / decadesDF.sum().max()\n",
    "\n",
    "# Now use the scale that we're already using for the CSS. \n",
    "normalizedBlocks = round(normalizedBlocks * tally.max())"
   ]
  },
  {
   "cell_type": "code",
   "execution_count": null,
   "metadata": {
    "collapsed": false
   },
   "outputs": [],
   "source": [
    "blockHTML = '<section id=\"blocks\">'\n",
    "for i, block in enumerate(normalizedBlocks): \n",
    "    blockHTML += '<div class=\"block b-%s\"><a class=\"block\" href=\"#b-%s\">%s</a></div>' % (int(block), i, i)\n",
    "blockHTML = blockHTML + \"</section>\""
   ]
  },
  {
   "cell_type": "code",
   "execution_count": null,
   "metadata": {
    "collapsed": true
   },
   "outputs": [],
   "source": [
    "blockCSS = \"\"\"\n",
    "#blocks {  }\n",
    ".block, .block { \n",
    "  width: 30px; \n",
    "  height: 30px; \n",
    "  display: inline-block;\n",
    "  color: white; \n",
    "  text-align: center;\n",
    "  text-decoration: none;\n",
    "  margin-top: 3px; \n",
    "}\n",
    "\"\"\"\n",
    "\n",
    "for i, color in zip(range(0, tally.max()+1), colorList): \n",
    "    blockCSS += '.b-%s { font-size: %spx; }\\n' % (i, color)\n",
    "colorCSS += blockCSS"
   ]
  },
  {
   "cell_type": "code",
   "execution_count": null,
   "metadata": {
    "collapsed": true
   },
   "outputs": [],
   "source": [
    "html = \"\"\"<!DOCTYPE html>\n",
    "<html>\n",
    "<head>\n",
    "  <link href=\"https://fonts.googleapis.com/css?family=Raleway\" rel=\"stylesheet\"> \n",
    "  <style>\n",
    "  pre { \n",
    "      font-family: Raleway, serif; \n",
    "    }\n",
    "  main { \n",
    "      width: 40em; \n",
    "      margin: 2em auto; \n",
    "  }\n",
    "  %s\n",
    "  </style>\n",
    "</head>\n",
    "<body>%s<main><pre>%s</pre></main></body></html>\n",
    "\"\"\" % (colorCSS, blockHTML, out)"
   ]
  },
  {
   "cell_type": "code",
   "execution_count": null,
   "metadata": {
    "collapsed": false
   },
   "outputs": [],
   "source": [
    "with open('annotated-by-size.html', 'w') as f: \n",
    "    f.write(html)\n",
    "    f.close()"
   ]
  }
 ],
 "metadata": {
  "kernelspec": {
   "display_name": "Python 3",
   "language": "python",
   "name": "python3"
  },
  "language_info": {
   "codemirror_mode": {
    "name": "ipython",
    "version": 3
   },
   "file_extension": ".py",
   "mimetype": "text/x-python",
   "name": "python",
   "nbconvert_exporter": "python",
   "pygments_lexer": "ipython3",
   "version": "3.10.2"
  }
 },
 "nbformat": 4,
 "nbformat_minor": 0
}
