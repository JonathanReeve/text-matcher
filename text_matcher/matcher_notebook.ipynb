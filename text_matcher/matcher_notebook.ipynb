{
 "cells": [
  {
   "attachments": {},
   "cell_type": "markdown",
   "metadata": {},
   "source": [
    "<font size=5>Run Text_Matcher Algorithm</font>"
   ]
  },
  {
   "cell_type": "code",
<<<<<<< HEAD
   "execution_count": null,
   "metadata": {},
   "outputs": [],
   "source": []
  },
  {
   "cell_type": "code",
   "execution_count": 7,
=======
   "execution_count": 2,
>>>>>>> 4b822f34e7cc17fa235e6069c0c12451b154eefe
   "metadata": {},
   "outputs": [],
   "source": [
    "from matcher import Text, Matcher\n",
    "import json\n",
    "import pandas as pd\n",
    "from IPython.display import clear_output\n",
    "%matplotlib inline\n",
    "import matplotlib.pyplot as plt\n",
    "plt.rcParams[\"figure.figsize\"] = [16, 6]"
   ]
  },
  {
   "cell_type": "code",
<<<<<<< HEAD
   "execution_count": 8,
=======
   "execution_count": 3,
>>>>>>> 4b822f34e7cc17fa235e6069c0c12451b154eefe
   "metadata": {},
   "outputs": [],
   "source": [
    "# Load the data. Replace articles with the path of the jsonl file you want to use - \n",
    "# should be a file of all the articles that cite the text you're looking at.\n",
<<<<<<< HEAD
    "\n",
    "articles = '/Users/annie/Documents/school/23spring/UROP/part-1.jsonl'\n",
=======
    "articles = '/Users/annie/Documents/school/23spring/UROP/testing.jsonl'\n",
>>>>>>> 4b822f34e7cc17fa235e6069c0c12451b154eefe
    "with open(articles) as f: \n",
    "    rawArticles = f.readlines()\n",
    "\n",
    "# Parse the data. \n",
    "data = [json.loads(line) for line in rawArticles]\n",
    "\n",
    "# Load the text you want to find quotations from. Replace text with the text file you want to use.\n",
    "\n",
    "text = '/Users/annie/GIT/quotation-detection/gender-trouble/gender_trouble_pages.txt'\n",
    "with open(text) as f: \n",
    "    rawText = f.read()\n",
    "\n",
<<<<<<< HEAD
    "mm = Text(rawText, 'Gender Trouble') # Replace with the name of the article"
   ]
  },
  {
   "attachments": {},
   "cell_type": "markdown",
   "metadata": {},
   "source": [
    "Let's match the articles!"
=======
    "mm = Text(rawText, 'Gender Trouble')"
>>>>>>> 4b822f34e7cc17fa235e6069c0c12451b154eefe
   ]
  },
  {
   "cell_type": "code",
<<<<<<< HEAD
   "execution_count": 9,
=======
   "execution_count": 4,
>>>>>>> 4b822f34e7cc17fa235e6069c0c12451b154eefe
   "metadata": {},
   "outputs": [
    {
     "name": "stdout",
     "output_type": "stream",
     "text": [
<<<<<<< HEAD
      " Matching article 5184 of 5185"
=======
      " Matching article 22 of 231 total matches found.\n",
      "\n",
      "\n",
      "match 1:\n",
      "\u001b[32mGender Trouble\u001b[0m: (50788, 50940) desire? Are these terms discrete \u001b[31mkinds of cultural practices produce subversive discontinuity and dissonance among sex, gender, and desire and call into question their alleged relations\u001b[0m Chapter 2, “Prohibition, Psychoanalysis, and the Production of the Heterosexual\n",
      "\u001b[32mhttp://www.jstor.org/stable/23345044\u001b[0m: (21407, 21558) Gender Trouble, Judith Butler asks \u001b[31mkinds of cultural practices produce subversive discontinuity and dissonance among sex, gender and desire and call into question their alleged relations\u001b[0m Butler, xxxii). Admittedly, application of the American feminist's\n"
>>>>>>> 4b822f34e7cc17fa235e6069c0c12451b154eefe
     ]
    }
   ],
   "source": [
    "for i, article in enumerate(data): \n",
    "    clear_output()\n",
    "    print('\\r', 'Matching article %s of %s' % (i, len(data)), end='')\n",
    "    if 'numMatches' not in article: \n",
    "        articleText = Text(article[\"fullText\"], article['id'])\n",
    "        article['numMatches'], article['Locations in A'], article['Locations in B'] = \\\n",
<<<<<<< HEAD
    "        Matcher(mm, articleText).match()\n",
    "        article['fullText'] = '' #drop the fulltext asap"
   ]
  },
  {
   "attachments": {},
   "cell_type": "markdown",
   "metadata": {},
   "source": [
    "Turn the data into a pandas dataframe, drop the full text, and turn it back into a jsonl file for future analysis"
=======
    "        Matcher(mm, articleText).match()"
>>>>>>> 4b822f34e7cc17fa235e6069c0c12451b154eefe
   ]
  },
  {
   "cell_type": "code",
<<<<<<< HEAD
   "execution_count": 10,
=======
   "execution_count": 13,
>>>>>>> 4b822f34e7cc17fa235e6069c0c12451b154eefe
   "metadata": {},
   "outputs": [],
   "source": [
    "df = pd.DataFrame(data)\n",
    "df = df.drop(['fullText'], axis=1)\n",
<<<<<<< HEAD
    "\n",
    "#Replace 'finaldata.jsonl' with whatever name you want to give this file.\n",
=======
>>>>>>> 4b822f34e7cc17fa235e6069c0c12451b154eefe
    "df.to_json(path_or_buf='finaldata.jsonl', orient='records', lines=True)\n"
   ]
  }
 ],
 "metadata": {
  "kernelspec": {
   "display_name": "Python 3",
   "language": "python",
   "name": "python3"
  },
  "language_info": {
   "codemirror_mode": {
    "name": "ipython",
    "version": 3
   },
   "file_extension": ".py",
   "mimetype": "text/x-python",
   "name": "python",
   "nbconvert_exporter": "python",
   "pygments_lexer": "ipython3",
   "version": "3.8.8"
  },
  "orig_nbformat": 4
 },
 "nbformat": 4,
 "nbformat_minor": 2
}
