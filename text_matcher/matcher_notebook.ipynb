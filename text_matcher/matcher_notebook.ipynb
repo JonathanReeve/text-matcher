{
 "cells": [
  {
   "attachments": {},
   "cell_type": "markdown",
   "metadata": {},
   "source": [
    "<font size=5>Run Text_Matcher Algorithm</font>"
   ]
  },
  {
   "cell_type": "code",
   "execution_count": null,
   "metadata": {},
   "outputs": [],
   "source": []
  },
  {
   "cell_type": "code",
   "execution_count": 7,
   "metadata": {},
   "outputs": [],
   "source": [
    "from matcher import Text, Matcher\n",
    "import json\n",
    "import pandas as pd\n",
    "from IPython.display import clear_output\n",
    "%matplotlib inline\n",
    "import matplotlib.pyplot as plt\n",
    "plt.rcParams[\"figure.figsize\"] = [16, 6]"
   ]
  },
  {
   "cell_type": "code",
   "execution_count": 8,
   "metadata": {},
   "outputs": [],
   "source": [
    "# Load the data. Replace articles with the path of the jsonl file you want to use - \n",
    "# should be a file of all the articles that cite the text you're looking at.\n",
    "\n",
    "articles = '/Users/annie/Documents/school/23spring/UROP/part-1.jsonl'\n",
    "with open(articles) as f: \n",
    "    rawArticles = f.readlines()\n",
    "\n",
    "# Parse the data. \n",
    "data = [json.loads(line) for line in rawArticles]\n",
    "\n",
    "# Load the text you want to find quotations from. Replace text with the text file you want to use.\n",
    "\n",
    "text = '/Users/annie/GIT/quotation-detection/gender-trouble/gender_trouble_pages.txt'\n",
    "with open(text) as f: \n",
    "    rawText = f.read()\n",
    "\n",
    "mm = Text(rawText, 'Gender Trouble') # Replace with the name of the article"
   ]
  },
  {
   "attachments": {},
   "cell_type": "markdown",
   "metadata": {},
   "source": [
    "Let's match the articles!"
   ]
  },
  {
   "cell_type": "code",
   "execution_count": 9,
   "metadata": {},
   "outputs": [
    {
     "name": "stdout",
     "output_type": "stream",
     "text": [
      " Matching article 5184 of 5185"
     ]
    }
   ],
   "source": [
    "for i, article in enumerate(data): \n",
    "    clear_output()\n",
    "    print('\\r', 'Matching article %s of %s' % (i, len(data)), end='')\n",
    "    if 'numMatches' not in article: \n",
    "        articleText = Text(article[\"fullText\"], article['id'])\n",
    "        article['numMatches'], article['Locations in A'], article['Locations in B'] = \\\n",
    "        Matcher(mm, articleText).match()\n",
    "        article['fullText'] = '' #drop the fulltext asap"
   ]
  },
  {
   "attachments": {},
   "cell_type": "markdown",
   "metadata": {},
   "source": [
    "Turn the data into a pandas dataframe, drop the full text, and turn it back into a jsonl file for future analysis"
   ]
  },
  {
   "cell_type": "code",
   "execution_count": 10,
   "metadata": {},
   "outputs": [],
   "source": [
    "df = pd.DataFrame(data)\n",
    "df = df.drop(['fullText'], axis=1)\n",
    "\n",
    "#Replace 'finaldata.jsonl' with whatever name you want to give this file.\n",
    "df.to_json(path_or_buf='finaldata.jsonl', orient='records', lines=True)\n"
   ]
  }
 ],
 "metadata": {
  "kernelspec": {
   "display_name": "Python 3",
   "language": "python",
   "name": "python3"
  },
  "language_info": {
   "codemirror_mode": {
    "name": "ipython",
    "version": 3
   },
   "file_extension": ".py",
   "mimetype": "text/x-python",
   "name": "python",
   "nbconvert_exporter": "python",
   "pygments_lexer": "ipython3",
   "version": "3.8.8"
  },
  "orig_nbformat": 4
 },
 "nbformat": 4,
 "nbformat_minor": 2
}
