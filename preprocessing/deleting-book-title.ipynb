{
 "cells": [
  {
   "attachments": {},
   "cell_type": "markdown",
   "metadata": {},
   "source": [
    "# Detecting and deleting book/article titles\n",
    "\n",
    "\n",
    "Setting up the text for regex\n",
    "\n",
    "\n",
    "**Download txt file to preprocessing folder**\n",
    "\n",
    "**Run pip install ipysheet**"
   ]
  },
  {
   "cell_type": "code",
   "execution_count": 109,
   "metadata": {},
   "outputs": [],
   "source": [
    "import re\n",
    "import pandas as pd\n",
    "from ipysheet import from_dataframe, to_dataframe\n",
    "\n",
    "#Replace file name assigned to book (make sure text file saved to preprocessing folder)\n",
    "\n",
    "\n",
    "book = \"gendertrouble-text.txt\"\n",
    "\n",
    "\n",
    "booktext=open(book,\"r\", encoding=\"utf8\")\n",
    "\n",
    "\n",
    "test_str = booktext.read()"
   ]
  },
  {
   "attachments": {},
   "cell_type": "markdown",
   "metadata": {},
   "source": [
    "## Round 1: auto deletion of high accuracy title matching sequences"
   ]
  },
  {
   "cell_type": "code",
   "execution_count": null,
   "metadata": {},
   "outputs": [],
   "source": [
    "# coding=utf8\n",
    "# the above tag defines encoding for this document and is for Python 2.x compatibility\n",
    "\n",
    "\n",
    "regex = r'“[^”[:lower:]]+”[^“”]+Vol\\.|“[^”[:lower:]]+”[^“”]+No\\.|eds\\.[^V()]+Vol\\.|eds\\.[^()V]+\\([^)]+\\)|“[^”[:lower:]]+”[^()]+\\([^()]+\\)|\\.,[^()]+\\([^)]+\\)|:[^()]+\\([^()]+\\)|“[^.]+pp\\.|, “[^.]+p\\.|“[^.]+ p\\. \\d|“[^V\\d]+Vol\\. \\d|“[^(\\d]+\\([^\\d]+\\d\\d\\d\\d\\)'\n",
    "\n",
    "\n",
    "subst = \"\"\n",
    "\n",
    "\n",
    "# You can manually specify the number of replacements by changing the 4th argument\n",
    "result = re.sub(regex, subst, test_str, 0, re.MULTILINE)\n",
    "\n",
    "\n",
    "if result:\n",
    "    test_str = result\n",
    "# Note: for Python 2.7 compatibility, use ur\"\" to prefix the regex and u\"\" to prefix the test string and substitution."
   ]
  },
  {
   "attachments": {},
   "cell_type": "markdown",
   "metadata": {},
   "source": [
    "## Round 2: Cycling through general regex with user input confirming deletion of a portion of text\n",
    "\n",
    "This section is still in progress as not as effective in finding possible matches as I would want. Current alternative is only having user run Round 1 and then manually delete the remaining matches."
   ]
  },
  {
   "cell_type": "code",
   "execution_count": 101,
   "metadata": {},
   "outputs": [],
   "source": [
    "# Sets up a panda dataframe of identified text for user to go through\n",
    "\n",
    "regex_match_list = ['“[^”]+”[^()]+\\([^()]+\\)','\\.,[^()]+\\([^)]+\\)',':[^()]+\\([^()]+\\)',',[^()]+\\([^)]+\\)',':[^()]+\\([^()]+\\)']\n",
    "\n",
    "prematches = []\n",
    "\n",
    "matches = []\n",
    "\n",
    "# Goes expression by expression to find possible matches\n",
    "\n",
    "for reg in regex_match_list:\n",
    "    regex = '((.*(\\n|\\r|\\r\\n)){2})' + reg + '((.*(\\n|\\r|\\r\\n)){2})'\n",
    "    \n",
    "    prematches = prematches + re.findall(regex, test_str) \n",
    "\n",
    "for m in prematches:\n",
    "    #matches.append(r\"'\"+''.join(m)+\"'\")\n",
    "    matches.append(repr(''.join(m)))\n"
   ]
  },
  {
   "attachments": {},
   "cell_type": "markdown",
   "metadata": {},
   "source": [
    "⚠️ Note: editing the spreadsheet may cause it to collapse. Don't worry just look below the following block of code and click the three dots following \"Outputs are collapsed\". ⚠️"
   ]
  },
  {
   "cell_type": "code",
   "execution_count": null,
   "metadata": {},
   "outputs": [],
   "source": [
    "# Creates an interactive spreadsheet where user copy pastes actual matches on the cell 1 over.\n",
    "\n",
    "possible_matches = pd.DataFrame({\"Possible Matches\": matches, \"Correct Matches\": [None for i in range(len(matches))]})\n",
    "\n",
    "sheet = from_dataframe(possible_matches)\n",
    "\n",
    "sheet.column_width = [10,10,5,5,5,10] #adjust column widths so user does not have to scroll horizontally\n",
    "\n",
    "sheet"
   ]
  },
  {
   "attachments": {},
   "cell_type": "markdown",
   "metadata": {},
   "source": [
    "## Processing correct matches given by user"
   ]
  },
  {
   "cell_type": "code",
   "execution_count": 87,
   "metadata": {},
   "outputs": [],
   "source": [
    "# coding=utf8\n",
    "# the above tag defines encoding for this document and is for Python 2.x compatibility\n",
    "\n",
    "correct_matches = \"\"\n",
    "\n",
    "new_possible_matches = to_dataframe(sheet)\n",
    "\n",
    "for m in new_possible_matches[\"Correct Matches\"]:\n",
    "    if m != None:\n",
    "        if len(correct_matches) != 0:\n",
    "            correct_matches = correct_matches + \"|\" + m\n",
    "        else:\n",
    "            correct_matches = m\n",
    "\n",
    "regex = correct_matches\n",
    "\n",
    "subst = \"\"\n",
    "\n",
    "# You can manually specify the number of replacements by changing the 4th argument\n",
    "result = re.sub(regex, subst, test_str, 0, re.MULTILINE)\n",
    "\n",
    "if result:\n",
    "    test_str = result\n",
    "\n",
    "# Note: for Python 2.7 compatibility, use ur\"\" to prefix the regex and u\"\" to prefix the test string and substitution."
   ]
  },
  {
   "attachments": {},
   "cell_type": "markdown",
   "metadata": {},
   "source": [
    "## Round 3: Output finalized txt file of cleaned up text\n",
    "    Saves a new txt file named 'given book file name - cleaned .txt'"
   ]
  },
  {
   "cell_type": "code",
   "execution_count": 95,
   "metadata": {},
   "outputs": [],
   "source": [
    "cleaned_book = book.replace(\".txt\",\"\")+\"-cleaned\"+\".txt\"\n",
    "\n",
    "text_file = open(cleaned_book, \"wt\", encoding=\"utf-8\")\n",
    "n = text_file.write(test_str)\n",
    "text_file.close()"
   ]
  }
 ],
 "metadata": {
  "kernelspec": {
   "display_name": "Python 3",
   "language": "python",
   "name": "python3"
  },
  "language_info": {
   "codemirror_mode": {
    "name": "ipython",
    "version": 3
   },
   "file_extension": ".py",
   "mimetype": "text/x-python",
   "name": "python",
   "nbconvert_exporter": "python",
   "pygments_lexer": "ipython3",
   "version": "3.10.7"
  },
  "orig_nbformat": 4
 },
 "nbformat": 4,
 "nbformat_minor": 2
}
