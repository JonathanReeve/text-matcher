{
 "cells": [
  {
   "attachments": {},
   "cell_type": "markdown",
   "metadata": {},
   "source": [
    "# Import libraries"
   ]
  },
  {
   "cell_type": "code",
   "execution_count": 2,
   "metadata": {},
   "outputs": [],
   "source": [
    "from text_matcher.matcher import Text, Matcher\n",
    "import json\n",
    "import pandas as pd\n",
    "from IPython.display import clear_output\n",
    "%matplotlib inline\n",
    "import matplotlib.pyplot as plt\n",
    "plt.rcParams[\"figure.figsize\"] = [16, 6]\n",
    "#pd.set_option('display.max_colwidth', None)"
   ]
  },
  {
   "attachments": {},
   "cell_type": "markdown",
   "metadata": {},
   "source": [
    "# Load in our Data Files"
   ]
  },
  {
   "cell_type": "code",
   "execution_count": 6,
   "metadata": {},
   "outputs": [],
   "source": [
    "# Load Middlemarch .txt file \n",
    "# (Note: must have 'middlemarch.txt' in this directory)\n",
    "with open('../algorithm-testing/middlemarch.txt') as f: \n",
    "    rawMM = f.read()\n",
    "\n",
    "mm = Text(rawMM, 'Middlemarch')\n",
    "\n",
    "# Load in the JSON file with our JSTOR articles and data from TextMatcher\n",
    "# (Note: must have the file 'default.json' in the same directory as this notebook)\n",
    "df = pd.read_json('../algorithm-testing/jstor-middlemarch-articles.json')"
   ]
  },
  {
   "attachments": {},
   "cell_type": "markdown",
   "metadata": {},
   "source": [
    "# Importing the spell-check package\n",
    "\n",
    "## Input an article_id to run the spell-check on\n",
    "\n",
    "Languages tested:\n",
    "* English - ‘en’\n",
    "* Spanish - ‘es’\n",
    "* French - ‘fr’\n",
    "* German - ‘de’"
   ]
  },
  {
   "cell_type": "code",
   "execution_count": 21,
   "metadata": {},
   "outputs": [
    {
     "name": "stdout",
     "output_type": "stream",
     "text": [
      "Percent incorrect: 0.16329941860465116\n"
     ]
    }
   ],
   "source": [
    "from spellchecker import SpellChecker\n",
    "\n",
    "# ‼️ 🛑 Make sure to change the variable below to the correct article id 🛑  ‼️\n",
    "article_id  = 'http://www.jstor.org/stable/439034' # CHANGE THIS to article id\n",
    "\n",
    "spell_check_language = 'en'\n",
    "\n",
    "spell = SpellChecker(language = spell_check_language)\n",
    "\n",
    "# Use article_id to get the index of the article in our DataFrame\n",
    "article_index = df[df['id'] == article_id].index[0]\n",
    "article_text = df['fullText'].loc[article_index]\n",
    "article_title = df['title'].loc[article_index]\n",
    "\n",
    "# Assign the full text of this article to a variable called `cleaned_article_text`, with text-matcher's Text function\n",
    "cleaned_article_text = Text(article_text, article_title)\n",
    "\n",
    "word_list = ((\" \").join(article_text)).split(\" \")\n",
    "\n",
    "# find those words that may be misspelled\n",
    "incorrect = []\n",
    "for lang in ['en','fr','es','de']:\n",
    "    spell = SpellChecker(language = lang)\n",
    "    misspelled = spell.unknown(word_list)\n",
    "    incorrect.append(len(misspelled))\n",
    "\n",
    "incorrect_percentage = float(min(incorrect))/len(word_list)\n",
    "\n",
    "print(\"Percent incorrect:\", incorrect_percentage)\n"
   ]
  }
 ],
 "metadata": {
  "kernelspec": {
   "display_name": "Python 3.10.7 64-bit",
   "language": "python",
   "name": "python3"
  },
  "language_info": {
   "codemirror_mode": {
    "name": "ipython",
    "version": 3
   },
   "file_extension": ".py",
   "mimetype": "text/x-python",
   "name": "python",
   "nbconvert_exporter": "python",
   "pygments_lexer": "ipython3",
   "version": "3.10.7"
  },
  "orig_nbformat": 4,
  "vscode": {
   "interpreter": {
    "hash": "0ec7a46e504a03a6c262f47983dcd02ef89fa5cad4a702285fe6c94bffe2d9b0"
   }
  }
 },
 "nbformat": 4,
 "nbformat_minor": 2
}
