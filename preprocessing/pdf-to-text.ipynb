{
 "cells": [
  {
   "attachments": {},
   "cell_type": "markdown",
   "metadata": {},
   "source": [
    "# Converting the PDF to Text\n",
    "\n",
    "The PDFs are converted to text using this package: https://github.com/jsvine/pdfplumber#extracting-text. Follow the installation instructions before running this notebook. \n"
   ]
  },
  {
   "cell_type": "code",
   "execution_count": 8,
   "metadata": {},
   "outputs": [
    {
     "name": "stdout",
     "output_type": "stream",
     "text": [
      "\n",
      "2 potential page numbers were found for this page.\n",
      "['vi', '233']\n",
      "Check PDF page 7 for the correct page number and enter it below (exactly as displayed in the print) If the page has no printed page number, do not input anything.\n",
      "vi\n",
      "\n",
      "2 potential page numbers were found for this page.\n",
      "['212', 'I']\n",
      "Check PDF page 213 for the correct page number and enter it below (exactly as displayed in the print) If the page has no printed page number, do not input anything.\n",
      "212\n",
      "\n",
      "2 potential page numbers were found for this page.\n",
      "['234', '155']\n",
      "Check PDF page 233 for the correct page number and enter it below (exactly as displayed in the print) If the page has no printed page number, do not input anything.\n",
      "234\n",
      "\n",
      "2 potential page numbers were found for this page.\n",
      "['235', '13']\n",
      "Check PDF page 234 for the correct page number and enter it below (exactly as displayed in the print) If the page has no printed page number, do not input anything.\n",
      "235\n",
      "\n",
      "2 potential page numbers were found for this page.\n",
      "['236', '100']\n",
      "Check PDF page 235 for the correct page number and enter it below (exactly as displayed in the print) If the page has no printed page number, do not input anything.\n",
      "236\n",
      "\n",
      "2 potential page numbers were found for this page.\n",
      "['237', '202']\n",
      "Check PDF page 236 for the correct page number and enter it below (exactly as displayed in the print) If the page has no printed page number, do not input anything.\n",
      "\n",
      "\n",
      "2 potential page numbers were found for this page.\n",
      "['238', '68']\n",
      "Check PDF page 237 for the correct page number and enter it below (exactly as displayed in the print) If the page has no printed page number, do not input anything.\n",
      "\n",
      "\n",
      "2 potential page numbers were found for this page.\n",
      "['239', '27']\n",
      "Check PDF page 238 for the correct page number and enter it below (exactly as displayed in the print) If the page has no printed page number, do not input anything.\n",
      "\n"
     ]
    }
   ],
   "source": [
    "import re \n",
    "import pdfplumber\n",
    "\n",
    "full_pdf_text = \"\"\n",
    "\n",
    "# input the path to the PDF you want to convert here\n",
    "with pdfplumber.open(\"foucault.pdf\") as pdf:\n",
    "\n",
    "    for i in range(len(pdf.pages)):\n",
    "        full_page = pdf.pages[i].extract_text()\n",
    "\n",
    "        first_line = full_page.split(\"\\n\")[0] # where page numbers at the top of the page are likely to be found\n",
    "        last_line = full_page.split(\"\\n\")[-1] # where page numbers at the bottom of the page are likely to be found\n",
    "        full_pdf_text += full_page\n",
    "\n",
    "        if len(full_page) != 0:\n",
    "            top_left_page_matches = re.findall(\"^([xXvViI]+|\\d+)\\s\", first_line)\n",
    "            top_right_page_matches = re.findall(\"\\s([xXvViI]+|\\d+)\\r$\", first_line)\n",
    "            bottom_page_matches = re.findall(\"([xXvViI]+|\\d+)$\", last_line)\n",
    "            \n",
    "            all_matches = []\n",
    "            if top_left_page_matches:\n",
    "                all_matches.append(top_left_page_matches[0].strip())\n",
    "            if top_right_page_matches:\n",
    "                all_matches.append(top_right_page_matches[-1].strip())\n",
    "            if bottom_page_matches:\n",
    "                all_matches.append(bottom_page_matches[-1].strip())\n",
    "\n",
    "            if len(all_matches) > 0:\n",
    "                if len(all_matches) > 1: # more than one potential page number \n",
    "                    print(f'\\n{len(all_matches)} potential page numbers were found for this page.')\n",
    "                    print(all_matches)\n",
    "                    print(f'Check PDF page {i+1} for the correct page number and enter it below (exactly as displayed in the print) If the page has no printed page number, do not input anything.')\n",
    "                    correct_page_number = input()\n",
    "                    print(correct_page_number)\n",
    "                    if len(correct_page_number.strip()) != 0:\n",
    "                        printed_page_number = correct_page_number.strip()\n",
    "                    else:\n",
    "                        printed_page_number = None\n",
    "                else:\n",
    "                    printed_page_number = all_matches[0]\n",
    "\n",
    "                if printed_page_number is not None: \n",
    "                    full_pdf_text += f'\\n\\n~printed_page_number:{printed_page_number}~'\n",
    "                \n",
    "        full_pdf_text += f'\\n~indexed_page_number:{i+1}~\\n\\n'\n",
    "\n",
    "# enter the name of your output file here     \n",
    "with open(\"gender_trouble_output.txt\", \"w\") as text_file:\n",
    "    text_file.write(full_pdf_text)\n"
   ]
  }
 ],
 "metadata": {
  "kernelspec": {
   "display_name": "Python 3",
   "language": "python",
   "name": "python3"
  },
  "language_info": {
   "codemirror_mode": {
    "name": "ipython",
    "version": 3
   },
   "file_extension": ".py",
   "mimetype": "text/x-python",
   "name": "python",
   "nbconvert_exporter": "python",
   "pygments_lexer": "ipython3",
   "version": "3.10.7"
  },
  "orig_nbformat": 4,
  "vscode": {
   "interpreter": {
    "hash": "aee8b7b246df8f9039afb4144a1f6fd8d2ca17a180786b69acc140d282b71a49"
   }
  }
 },
 "nbformat": 4,
 "nbformat_minor": 2
}
