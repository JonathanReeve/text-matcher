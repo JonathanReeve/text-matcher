{
 "cells": [
  {
   "cell_type": "code",
   "execution_count": 20,
   "metadata": {},
   "outputs": [
    {
     "name": "stdout",
     "output_type": "stream",
     "text": [
      "is\n",
      "xxxi\n",
      "\n",
      "\f\n"
     ]
    }
   ],
   "source": [
    "import pdftotext\n",
    "\n",
    "with open(\"gender_trouble.pdf\", \"rb\") as f:\n",
    "    pdf = pdftotext.PDF(f)\n",
    "\n",
    "    for i in range(len(pdf)):\n",
    "        page = pdf[i]\n",
    "        pdf_page_num = i + 1\n",
    "\n",
    "        print(pdf_page_num)\n",
    "        if len(page.strip()) != 0:\n",
    "            print(\"PAGE\", page.strip()[-5:])\n",
    "\n",
    "\n",
    "        # write code that adds the printed page number and the actual page number in the pdf\n"
   ]
  }
 ],
 "metadata": {
  "kernelspec": {
   "display_name": "Python 3",
   "language": "python",
   "name": "python3"
  },
  "language_info": {
   "codemirror_mode": {
    "name": "ipython",
    "version": 3
   },
   "file_extension": ".py",
   "mimetype": "text/x-python",
   "name": "python",
   "nbconvert_exporter": "python",
   "pygments_lexer": "ipython3",
   "version": "3.10.7"
  },
  "orig_nbformat": 4,
  "vscode": {
   "interpreter": {
    "hash": "aee8b7b246df8f9039afb4144a1f6fd8d2ca17a180786b69acc140d282b71a49"
   }
  }
 },
 "nbformat": 4,
 "nbformat_minor": 2
}
