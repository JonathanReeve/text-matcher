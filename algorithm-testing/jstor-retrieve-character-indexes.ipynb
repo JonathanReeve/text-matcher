{
 "cells": [
  {
   "cell_type": "markdown",
   "metadata": {},
   "source": [
    "# Checking and retrieving character indexes from quotations\n",
    "\n",
    "\n",
    "What you will need to run this notebook:\n",
    "\n",
    "+ The Project Gutenberg fulltext of your source text (text A). In this case, the Project Gutenberg version of *Middlemarch*: `middlemarch.txt`. This should already be in the Github repository.\n",
    "+ The JSON file with the output of `text-matcher`. In this case, this is `jstor-middlemarch-articles.json`. You can download it from here: https://drive.google.com/drive/folders/1N1IXEy5CGEKplru0R6KNzj5kDLwxMVDC?usp=share_link\n",
    "\n",
    "Both of these files must be in the same directory as this notebook for the filepaths below to run correctly. You should move the JSON file into this directory, and remember to delete it and empty your Trash when you finish working on this task.\n",
    "\n",
    "In addition, you should open [the `middlemarch-ground-truth-indexes` Google Sheet](https://docs.google.com/spreadsheets/d/1I1xEVKGQIf9eGvfLs_l0rCRmSz5GYVmHmRbWzUBWIRc/edit?usp=share_link)\n",
    "\n",
    "\n",
    "### A preliminary note about  character indexes:\n",
    "\n",
    "A match in text matcher takes the form of a pair, or a list of pairs, of character indexes. These character indexes store the position of a match and can be used to retrieve the corresponding text.\n",
    "\n",
    "Let's say you were looking at an output :  [[173657, 173756], [292143, 292406]]. \n",
    "\n",
    "In each pair, the first number corresponds to the **starting character index**, and the second number corresponds to the **ending character index** of a quotation. \n",
    "\n",
    "So in this example, for match [173657, 173756].\n",
    "+ the **starting charcter** is 173657\n",
    "+ the **ending character** is 173756"
   ]
  },
  {
   "cell_type": "markdown",
   "metadata": {},
   "source": [
    "### Import libraries\n",
    "Run the cell below to import libraries"
   ]
  },
  {
   "cell_type": "code",
   "execution_count": 1,
   "metadata": {},
   "outputs": [],
   "source": [
    "from text_matcher.matcher import Text, Matcher\n",
    "import json\n",
    "import pandas as pd\n",
    "from IPython.display import clear_output\n",
    "%matplotlib inline\n",
    "import matplotlib.pyplot as plt\n",
    "plt.rcParams[\"figure.figsize\"] = [16, 6]\n",
    "#pd.set_option('display.max_colwidth', None)"
   ]
  },
  {
   "cell_type": "markdown",
   "metadata": {},
   "source": [
    "### Load in our data files:"
   ]
  },
  {
   "cell_type": "code",
   "execution_count": 2,
   "metadata": {},
   "outputs": [],
   "source": [
    "# Load Middlemarch .txt file \n",
    "# (Note: must have 'middlemarch.txt' in this directory)\n",
    "with open('middlemarch.txt') as f: \n",
    "    rawMM = f.read()\n",
    "\n",
    "mm = Text(rawMM, 'Middlemarch')\n",
    "\n",
    "# Load in the JSON file with our JSTOR articles and data from TextMatcher\n",
    "# (Note: must have the file 'default.json' in the same directory as this notebook)\n",
    "df = pd.read_json('jstor-middlemarch-articles.json')"
   ]
  },
  {
   "cell_type": "code",
   "execution_count": 3,
   "metadata": {},
   "outputs": [
    {
     "data": {
      "text/html": [
       "<div>\n",
       "<style scoped>\n",
       "    .dataframe tbody tr th:only-of-type {\n",
       "        vertical-align: middle;\n",
       "    }\n",
       "\n",
       "    .dataframe tbody tr th {\n",
       "        vertical-align: top;\n",
       "    }\n",
       "\n",
       "    .dataframe thead th {\n",
       "        text-align: right;\n",
       "    }\n",
       "</style>\n",
       "<table border=\"1\" class=\"dataframe\">\n",
       "  <thead>\n",
       "    <tr style=\"text-align: right;\">\n",
       "      <th></th>\n",
       "      <th>creator</th>\n",
       "      <th>datePublished</th>\n",
       "      <th>docSubType</th>\n",
       "      <th>docType</th>\n",
       "      <th>fullText</th>\n",
       "      <th>id</th>\n",
       "      <th>identifier</th>\n",
       "      <th>isPartOf</th>\n",
       "      <th>issueNumber</th>\n",
       "      <th>language</th>\n",
       "      <th>...</th>\n",
       "      <th>title</th>\n",
       "      <th>url</th>\n",
       "      <th>volumeNumber</th>\n",
       "      <th>wordCount</th>\n",
       "      <th>numMatches</th>\n",
       "      <th>Locations in A</th>\n",
       "      <th>Locations in B</th>\n",
       "      <th>abstract</th>\n",
       "      <th>keyphrase</th>\n",
       "      <th>subTitle</th>\n",
       "    </tr>\n",
       "  </thead>\n",
       "  <tbody>\n",
       "    <tr>\n",
       "      <th>0</th>\n",
       "      <td>[Rainer Emig]</td>\n",
       "      <td>2006-01-01</td>\n",
       "      <td>book-review</td>\n",
       "      <td>article</td>\n",
       "      <td>[Monika Mueller, George Eliot U.S.: Transat- l...</td>\n",
       "      <td>http://www.jstor.org/stable/41158244</td>\n",
       "      <td>[{'name': 'issn', 'value': '03402827'}, {'name...</td>\n",
       "      <td>Amerikastudien / American Studies</td>\n",
       "      <td>3</td>\n",
       "      <td>[eng]</td>\n",
       "      <td>...</td>\n",
       "      <td>Review Article</td>\n",
       "      <td>http://www.jstor.org/stable/41158244</td>\n",
       "      <td>51</td>\n",
       "      <td>1109</td>\n",
       "      <td>0</td>\n",
       "      <td>[]</td>\n",
       "      <td>[]</td>\n",
       "      <td>NaN</td>\n",
       "      <td>NaN</td>\n",
       "      <td>NaN</td>\n",
       "    </tr>\n",
       "    <tr>\n",
       "      <th>1</th>\n",
       "      <td>[Martin Green]</td>\n",
       "      <td>1970-01-01</td>\n",
       "      <td>book-review</td>\n",
       "      <td>article</td>\n",
       "      <td>[Reviews I57 Thackeray's Critics: An Annotated...</td>\n",
       "      <td>http://www.jstor.org/stable/3722819</td>\n",
       "      <td>[{'name': 'issn', 'value': '00267937'}, {'name...</td>\n",
       "      <td>The Modern Language Review</td>\n",
       "      <td>1</td>\n",
       "      <td>[eng]</td>\n",
       "      <td>...</td>\n",
       "      <td>Review Article</td>\n",
       "      <td>http://www.jstor.org/stable/3722819</td>\n",
       "      <td>65</td>\n",
       "      <td>1342</td>\n",
       "      <td>0</td>\n",
       "      <td>[]</td>\n",
       "      <td>[]</td>\n",
       "      <td>NaN</td>\n",
       "      <td>NaN</td>\n",
       "      <td>NaN</td>\n",
       "    </tr>\n",
       "    <tr>\n",
       "      <th>2</th>\n",
       "      <td>[Richard Exner]</td>\n",
       "      <td>1982-01-01</td>\n",
       "      <td>book-review</td>\n",
       "      <td>article</td>\n",
       "      <td>[Essays Mary McCarthy. Ideas and the Novel. Ne...</td>\n",
       "      <td>http://www.jstor.org/stable/40137021</td>\n",
       "      <td>[{'name': 'issn', 'value': '01963570'}, {'name...</td>\n",
       "      <td>World Literature Today</td>\n",
       "      <td>1</td>\n",
       "      <td>[eng]</td>\n",
       "      <td>...</td>\n",
       "      <td>Review Article</td>\n",
       "      <td>http://www.jstor.org/stable/40137021</td>\n",
       "      <td>56</td>\n",
       "      <td>493</td>\n",
       "      <td>0</td>\n",
       "      <td>[]</td>\n",
       "      <td>[]</td>\n",
       "      <td>NaN</td>\n",
       "      <td>NaN</td>\n",
       "      <td>NaN</td>\n",
       "    </tr>\n",
       "  </tbody>\n",
       "</table>\n",
       "<p>3 rows × 30 columns</p>\n",
       "</div>"
      ],
      "text/plain": [
       "           creator datePublished   docSubType  docType  \\\n",
       "0    [Rainer Emig]    2006-01-01  book-review  article   \n",
       "1   [Martin Green]    1970-01-01  book-review  article   \n",
       "2  [Richard Exner]    1982-01-01  book-review  article   \n",
       "\n",
       "                                            fullText  \\\n",
       "0  [Monika Mueller, George Eliot U.S.: Transat- l...   \n",
       "1  [Reviews I57 Thackeray's Critics: An Annotated...   \n",
       "2  [Essays Mary McCarthy. Ideas and the Novel. Ne...   \n",
       "\n",
       "                                     id  \\\n",
       "0  http://www.jstor.org/stable/41158244   \n",
       "1   http://www.jstor.org/stable/3722819   \n",
       "2  http://www.jstor.org/stable/40137021   \n",
       "\n",
       "                                          identifier  \\\n",
       "0  [{'name': 'issn', 'value': '03402827'}, {'name...   \n",
       "1  [{'name': 'issn', 'value': '00267937'}, {'name...   \n",
       "2  [{'name': 'issn', 'value': '01963570'}, {'name...   \n",
       "\n",
       "                            isPartOf issueNumber language  ...  \\\n",
       "0  Amerikastudien / American Studies           3    [eng]  ...   \n",
       "1         The Modern Language Review           1    [eng]  ...   \n",
       "2             World Literature Today           1    [eng]  ...   \n",
       "\n",
       "            title                                   url volumeNumber  \\\n",
       "0  Review Article  http://www.jstor.org/stable/41158244           51   \n",
       "1  Review Article   http://www.jstor.org/stable/3722819           65   \n",
       "2  Review Article  http://www.jstor.org/stable/40137021           56   \n",
       "\n",
       "  wordCount numMatches Locations in A  Locations in B abstract keyphrase  \\\n",
       "0      1109          0             []              []      NaN       NaN   \n",
       "1      1342          0             []              []      NaN       NaN   \n",
       "2       493          0             []              []      NaN       NaN   \n",
       "\n",
       "  subTitle  \n",
       "0      NaN  \n",
       "1      NaN  \n",
       "2      NaN  \n",
       "\n",
       "[3 rows x 30 columns]"
      ]
     },
     "execution_count": 3,
     "metadata": {},
     "output_type": "execute_result"
    }
   ],
   "source": [
    "# Let's peek inside our DataFrame\n",
    "df.head(3)"
   ]
  },
  {
   "cell_type": "markdown",
   "metadata": {},
   "source": [
    "# Check quotation matches for particular articles\n"
   ]
  },
  {
   "cell_type": "markdown",
   "metadata": {},
   "source": [
    "## Set the `article_id` ‼️\n",
    "\n",
    "In the cell below, change the variable `article_id` to the id of the article you wish to examine.\n",
    "\n",
    "**Where can I find the article id?**\n",
    "\n",
    "+ This can be found in the `id` column of the [Google Sheet](https://docs.google.com/spreadsheets/d/1I1xEVKGQIf9eGvfLs_l0rCRmSz5GYVmHmRbWzUBWIRc/edit?usp=share_link)\n",
    "\n",
    "*Note: JSTOR outputs the fulltext of articles text as a list of strings, so we have to concatenate them using text-matcher;s `Text()` function.*\n"
   ]
  },
  {
   "cell_type": "code",
   "execution_count": 48,
   "metadata": {},
   "outputs": [
    {
     "name": "stdout",
     "output_type": "stream",
     "text": [
      "\n",
      "Article selected:\n",
      "ID: http://www.jstor.org/stable/42827934\n",
      "Title: \"THE INSTRUMENT OF THE CENTURY\": THE PIANO AS AN ICON OF FEMALE SEXUALITY IN THE NINETEENTH CENTURY\n",
      "\n"
     ]
    }
   ],
   "source": [
    "# ‼️ 🛑 Make sure to change the variable below to the correct article id 🛑  ‼️\n",
    "article_id  = 'http://www.jstor.org/stable/42827934' # CHANGE THIS to article id\n",
    "\n",
    "# Use article_id to get the index of the article in our DataFrame\n",
    "article_index = df[df['id'] == article_id].index[0]\n",
    "article_text = df['fullText'].loc[article_index]\n",
    "article_title = df['title'].loc[article_index]\n",
    "\n",
    "# Assign the full text of this article to a variable called `cleaned_article_text`, with text-matcher's Text function\n",
    "cleaned_article_text = Text(article_text, article_title)\n",
    "\n",
    "# Print out the title and ID of the article we selected as confirmation\n",
    "print(f\"\"\"\n",
    "Article selected:\n",
    "ID: {article_id}\n",
    "Title: {article_title}\n",
    "\"\"\")\n"
   ]
  },
  {
   "cell_type": "markdown",
   "metadata": {},
   "source": [
    "## Find the index positions of a given quotation\n",
    "\n",
    "To establish all of the \"ground truth\" quotations (and their character indexes), we'll want to get the index characters not just for quotations that text-matcher successfully matched, but for *all* quotations in that article.\n",
    "\n",
    "To retrieve the index characters for all quotations in an article legilbe to human eyes, follow the following steps.\n"
   ]
  },
  {
   "cell_type": "markdown",
   "metadata": {},
   "source": [
    "### Step 1: Select the quotation in the ground truth spreadsheet\n",
    "\n",
    "Work through the quotations in your selected article one by one."
   ]
  },
  {
   "cell_type": "markdown",
   "metadata": {},
   "source": [
    "### Step 2:  Locate the text of that quotation as it appears in the JSON file in the \"\"fullText\" field\n",
    "(🛑 Make sure you've entered the `article_id` for the article in the section \"Set the `article_id`\", first!!)  \n",
    "Run the cell below, and then use \"CTRL+F\" in your browser to find the quotation as it appears in the \"Quotation from PDF\" column on the spreadsheet.\n",
    "\n",
    "Look at the text below and see whether the \"Quotation from PDF\" text is actually a quotation from *Middlemarch*. Often it will include too much or too little, sometimes it won't be the quotation at all."
   ]
  },
  {
   "cell_type": "code",
   "execution_count": 49,
   "metadata": {},
   "outputs": [
    {
     "name": "stdout",
     "output_type": "stream",
     "text": [
      "\"THE INSTRUMENT OF THE CENTURY\":1 THE PIANO AS AN ICON OF FEMALE SEXUALITY IN THE NINETEENTH CENTURY by LAURA VORACHEK University of Wisconsin-Madison The piano rapidly became the instrument of choice in the nineteenth century, a fixture in middle-class British households within 30 years of its first becoming available for domestic use in 1771. Absent from male education, learning to play the piano was a standard part of a middle-class girl's training since it was believed to provide discipline, diversion, and a skill that would help her attract a husband. The piano's specific class and gender associations suggest it functioned within a middle-class ideology which naturalized these distinctions, as well as defined women's sexuality. At the same time, both the piano and women's sexual purity were symbols of middle-class economic status. Due to their association, the piano came to embody the somewhat contradictory cultural conceptions of middle-class female sexuality in the art and literature of the period. Nineteenth-century debates about the nature of women's sexuality have resulted in disparate representations by twentieth-century theoreticians and historians. Michel Foucault argues that medical discourse sought to order and define women's sexuality in this period by hystericizing women's bodies - attributing nervous disorders to sexual organs. Complementing this discourse of illness was a view of women as asexual. Thomas Laqueur contends that a change in the perception of women's sexuality, from women as carnal beings to women as \"passionless,\" occurred in the eighteenth century. This redefinition of women's sexuality, part of a new stress on oppositional differentiation between men and women, was supported by evidence of automatic ovulation which indicated that female orgasm was not necessary for conception as previously believed. Both the hysterization of women's bodies and medical discoveries about automatic ovulation pathologized women's sexuality. Both theses also emphasize the influence of medical discourse in shaping lay opinion and, consequently, women's sexuality. Michael Mason argues, however, that lay opinion differed from that of elite medical researchers in that the uterus was believed to have an influence on a woman's whole being, dispersing sites of sexual arousal throughout a woman's body - a view certainly at odds with passionlessness. He does note, though, that it was widely believed, despite evidence to the contrary, that \"women may acquire or at least develop their sexual appetite through sexual activity\" (221). The 26 \n",
      " work of these historians points to competing beliefs about and representations of women's sexuality during the century. I would suggest that these competing beliefs reflect the manipulation of women's sexuality in representing class difference. Cora Kaplan and Nancy Armstrong remind us that along with sexual differentiation, (middle-class) Victorians were concerned with class differentiation. Kaplan argues that since the working classes were feminized by contemporary discourse, middie-class women distanced themselves by \"projecting and displacing on to women of lower social standing and women of colour, as well as on to the 'traditionally' corrupt aristocracy, all that was deemed vicious and regressive in women as a sex\" (168). Armstrong contends that this distancing is represented in eighteenth and nineteenth-century conduct books which emphasized the qualities that made a middle-class woman a good wife - her sexual innocence and moral purity - in order to differentiate her from the bodily display of the aristocratic woman and the physical labor of the working-class woman. Furthermore, the cultural narrative of the fallen woman, whose loss of moral purity is accompanied by a loss of class status, served as a warning and a boundary for middle-class women's sexual behavior that favored, if not passionlessness, a less sexualized view of middleclass women.2 Thus cultural representations of bourgeois class status joined medical science in further circumscribing women's sexuality. As the middle-class woman is constructed with a bodiless, class-based sexuality, her desire, I will argue, is displaced onto the piano. The piano functions as a fetish, a location for her sex expression that allows her to remain innocent, her body chaste, yet her desire communicated or mediated through playing. To account for this association, I turn now to the history of the piano in the nineteenth century. The development of factory manufacturing during the Industrial Revolution made ownership of a piano an accessible symbol of respectability and pretension to gentility. Its rise to popularity and institution in the education of the middle-class girl occurred in a relatively short period of time (see Grover, Harding, and Loesser). In 1766 the first English piano was produced in the workshop of Johann Zumpe. Five years later, John Broadwood introduced the first square piano, which was amenable both in size and cost for the middle-class household. A new grand pianoforte is a sign of arrival for the upwardly mobile Cole family in Jane Austen's Emma (1816). \"[0]f low origin, in trade, and only moderately genteel,\" the Coles live quietly until experiencing a considerable increase in income (Austen 188). To mark their new economic status, the Coles increase the size of their house, the number of servants they employ and their general expenditures, including a grand pianoforte, purchased despite the fact that Mrs. Cole \"do[es] not know one note from another, and [her] little girls, who are but 27 \n",
      " just beginning, perhaps may never make anything of it\" (196).3 By 1820, a piano was within the reach of even the lower-middle-class family. Aware of their middle-class female market, piano manufacturers in the early part of the century produced pianos that doubled as drawing-room tables, writing tables, storage cabinets, sewing tables and work boxes (Harding 264-65). By the middle of the century, the piano was well established as the principal source of home entertainment. Writing in 1876, the Rev. H. R. Haweis estimated that 20,000 pianos were manufactured annually in Great Britain, and another 10,000 foreign-made pianos were imported each year. He further estimated that one million people played 400,000 pianos in Great Britain at this time (435-36). The piano's importance in the middle-class household lasted until the end of the century when the arrival of the phonograph and the cinema began to threaten its popularity. The piano was both a public and domestic instrument during this period with specific associations which corresponded to gender ideology, skill level and economic spheres. Usually found in a domestic setting, the piano was employed for amateur music making, and the performers were mainly women, \"as piano playing - at not too advanced a level - was one of the most desired feminine accomplishments\" (Plantinga 1). In addition to family entertainment, the piano was commonly believed to provide both discipline and an emotional outlet for women. Haweis notes that \"the piano makes a girl sit upright and pay attention to details.\" Moreover, \"a good play on the piano has not infrequently taken the place of a good cry upstairs\" (346, 347). In William Thackeray's Vanity Fair , the piano aids Amelia Osborne in her expression of her grief at the death of her husband: she \"sate for long evening hours, touching, to the best of her simple art, melancholy harmonies on the keys, and weeping over them in silence\" (Thackeray 577). While the piano was considered the province of the female amateur musician, she was not thought capable of serious artistic achievement. Nicholas Temper ley suggests that one reason for this was that serious devotion to music might interfere with a young lady's attempts to find a husband (\"Ballroom\" 119), although gender ideology concerning women's intellectual capacity certainly played a role as well (Scott 96). Intellectual development in women was thought to have a negative effect on their reproductive capabilities, redirecting their limited energy resources from their \"natural\" function of childbearing.4 The music these young women played also may have had a hand in creating this bias against the skill of female pianists. While drawing-room music was similar to the high art music of the period,5 it was less challenging technically and intellectually, \"a pale reflection of the music of the great composers of an earlier generation\" (Temperley, \"Ballroom\" 119). Further, popular drawing-room ballads played on sentiment 28 \n",
      " with lyrics that focused on domestic (British as well as home and family) virtues such as family loyalty, maternal love, patriotism and valor, 'Virtues lost in modern urban society or threatened by continental influences'' (Temperley, \"Ballroom\" 123). While not the stuff of high art music, the subject matter was appropriate for the middle-class woman's role as moral guide for her family.6 In addition to providing entertainment in her leisure hours, the middleclass woman could soothe away stresses of her husband's workplace with her playing. Lydgate's vision of married life, in George Eliot's Middlemarch, reflects this prevailing attitude. In his \"dreamland, ... Rosamond Vincy appeared to be that perfect piece of womanhood who would reverence her husband's mind after the fashion of an accomplished mermaid, using her comb and looking-glass and singing her song for the relaxation of his adored wisdom alone\" (Eliot 475). And, early in their marriage, she accommodates his fantasy: At home... he had his long legs stretched on the sofa, his head thrown back, and his hands clasped behind it according to his favorite ruminating attitude, while Rosamond sat at the piano, and played one tune after another, of which her husband only knew (like the emotional elephant he was!) that they fell in with his mood as if they had been melodious sea-breezes. (373) Insensitive to her art, Lydgate recognizes only that the music creates a relaxing atmosphere, naturalizing the harmony of his home. Haweis suggests, however, that the piano's primary function in the middle-class home is to relieve the stresses of domestic life by providing an outlet for a woman's enforced idleness and emotional restraint: \"That domestic and long-suffering instrument, the cottage piano, has probably done more to sweeten existence and bring peace and happiness to families in general, and to young women in particular, than all the homilies on the domestic virtues ever yet penned\" (104). Thus, the piano functioned as the \"visual-sonoric simulacrum of family, wife, and mother\" in the Victorian home, \"an analogical referent to social harmony and domestic order\" (Leppert 105, 115). This \"domestic order\" specifically belonged to the middle-class home, defined as it was against the economic sphere, thereby reinforcing the \"social harmony\" of a gender-based division of labor that supported middleclass economic stability. An emblem of middle-class respectability and status, the piano came to be gendered female by association. However, the piano was also a public instrument during the nineteenth century, most notably used by the increasingly popular international concert virtuosi. The rise of this new type of musician was tied to the evolution of the piano. Technical developments in the 1820s increased the piano's range and volume, making it a perfect vehicle for solo performance as it was a 29 \n",
      " \"complete harmonic and melodic instrument\" (Sennett 197). Leon Plantinga notes that in addition to the popularity of solo piano playing, social and political conditions also fueled the rise of the concert virtuoso. The development of a bourgeois public which promoted individual achievement provided an audience which recognized this in the virtuosi's technical mastery of the instrument (4). The newly middle-class also had the time and money with which to support these rising musicians. Perhaps as a result, the virtuosi directed their work almost exclusively to this new public audience. Free from the obligations of church or aristocratic patronage, virtuosi were able to specialize in the piano, refining their skill and developing new keyboard techniques (Plantinga 6). Thus a middle-class ethos as well as middle-class audience was central to the appearance of this musical figure. As the focus in performance shifted to individual skill and technique, the performer rather than the music took center stage. In the spotlight, virtuosi infused music with their personalities and, perhaps as a result, their virtuosity was seen as a sign of sensitivity, their technical power a sign of personal power (Sennett 193). In contrast to the drawing-room ballad which relied on sentimental lyrics to evoke emotion, the compositions of virtuosi often incited strong emotions and overwhelmed the listener, which was taken as a testament to their personal power. The power to move listeners could take its toll on the musician as well, as is evidenced by Liszt's fainting after a performance in Paris in 1835. Perhaps because of scenes such as this, some feared that music would ef feminize men. While most concert virtuosi were men, it is important to note that almost none were British. British men of the aristocracy and middle classes were discouraged from playing the piano in domestic circles, which likely prevented many from becoming skilled enough for public performance.7 Nicholas Temperley cites the \"aristocratic idea that music was no pursuit for a gentleman, except as a dilettante\" and that among the middle classes a serious interest in music in men was considered effeminate and unpractical as attitudes discouraging male musical achievement in these ranks (Lost Chord 10, 11). The view of \"musical performance as a timewasting activity and a sign of degeneracy\" impeded the introduction of music into the curriculum of middle-class boys' boarding schools well into the second half of the century (Rainbow 34). Indeed, at mid-century, a \"Harrow [school] boy who went in for the study of music ... would have been looked upon as a veritable milksop.\" This view of music applied especially to the piano. Men with a musical inclination were steered toward different instruments, such as stringed or wind instruments like the violin or flute, or voice (Sennett 197). \"Gentlemen were not expected to play the piano in the drawing room: the only male pianists were professional, providers, not consumers of piano music\" (Temperley, \"Ballroom\" 120). The 30 \n",
      " feminizing of the amateur musical world and a strong distinction between women as consumers of piano music and men as producers suggests that the gendered distinction between public and domestic spheres carried into the musical world, at least as far at the piano is concerned. However, the public life of the instrument was not divorced from its domestic life. Some prominent pianists performed at concerts and salons held in private homes and, in London, often held their annual benefit concerts, which were advertised in the press, in the homes of supporters (Weber 31). Additionally, many virtuosi endorsed pianos, published music for the home-music market and gave lessons, providing another connection with the domestic world of amateur music. And Richard Sennett contends that many women felt an affinity with virtuosi because they too played the piano, often virtuosi's compositions transcribed for amateurs (197). The virtuosi, then, were foreigners on British soil,8 known for their emotional intensity, and playing an instrument that had been gendered female in the British mind - they were, in their mastery of technique and ability to affect an audience, powerful yet effeminized men. Set apart from British conceptions of masculinity by their musicality, these men did not dislodge the piano as a feminized symbol of middle-class domestic harmony. My contention is that the piano became a sexual symbol at almost the same moment it became a symbol of middle-class domesticity. Its association with sexual desire was the result of several interrelated cultural phenomena. The piano's predecessors - the virginals, harpsichords and clavicords from the sixteenth to the eighteenth centuries - were commonly decorated with paintings, a tradition that sometimes carried onto the pianos of the nineteenth century. The wooden cases of harpsichords made by Hans Rucker in the seventeenth century were often decorated with paintings by Rubens, Van Dyck and Boucher (Swan 47). In the nineteenth century, Pre- Raphaelite painter Edward Burne-Jones decorated the cases of several pianos, including one he received as a wedding present.9 This artwork indicates that the instrument was a source of visual as well as aural pleasure for the audience. Hunting scenes, a predominantly male activity, were a common subject of these paintings (Leppert 109). Given this subject matter, I would argue that a specifically male audience was implied for the decorated instrument. Furthermore, in response to the concerns of its domestic market, piano manufacturers in the early decades of the century developed the small, upright pianoforte to remedy the drawbacks of the tall upright, which obscured a view of the performer whose voice was muffled by the silk front of the instrument (Harding 226). As pianists in the domestic arena were predominantly women, the instrument's redesign indicates that the woman playing the piano was also a source of visual pleasure for men. Since a 31 \n",
      " woman's ability to play the piano was considered a boon on the marriage market, the piano also carried connotations of sexual pleasure. Maria Edgeworth, in Practical Education (1798), advises her readers that musical skill improves \"a young lady's chance of a prize in the matrimonial lottery\" (6). Male desire, then, linked the woman and the piano. The piano was also sexualized in this period by popular Romantic male composers. Noting Chopin's affair with George Sand and Franz Liszt's numerous affairs with princesses, Anthony Burgess remarks: \"The piano, with them, seems to become a monstrous aphrodisiac\" (21). Liszt also excited a response more commonly associated with the modern rock star: women would fight for pieces of horsehair from his piano stool or faint when he approached the audience after concerts (Hueffer cited in Auerbach 32). Mary Burgan notes that \"[t]he great male virtuoso figures of the Victorian period were often depicted in demonic terms, suggesting a sexual source for sublime musical rapture\" and a corresponding \"fear that too powerful an inspiration [could] overwhelm impressionable female hearers, often in pathological ways\" (66). The infectious sexuality of these virtuosi, inciting lust, frenzy and fainting fits, suggests a veiled threat to the purity of Victorian women, and consequently domestic harmony, through the very instrument they called their own. George Eliot presents a fictionalized version of such a Romantic male composer in Daniel Deronda with Herr Klesmer, who \"was not yet a Liszt, understood to be adored by ladies of all European countries with the exception of Lapland\" (203).10 Not quite the Don Juan virtuoso, he is unaware that he is adored by his student Catherine Arrowpoint. Unable to verbally express his feelings for Catherine because of his social position, Klesmer uses the piano as a means of expressing his passion. \"[I]f Miss Arrowpoint had been poor he should have made ardent love to her instead of sending a storm through the piano\" (205). This situation comes to a crisis when a new suitor provokes an argument between them, with Catherine referring to the time Klesmer spends in her family's house as a sacrifice. \"'Why should I make the sacrifice?\"' said Klesmer, going to seat himself at the piano, and touching the keys so as to give with the delicacy of an echo in the far distance a melody which he had set to Heine's 'Ich hab' dich geliebvet und lieve dich noch'\" (\"I have loved you and I love you still\") as if subconsicously answering his own question with the piano (206). This tune serves as the prelude to both confessing their love for the other. The comparison between Liszt and Klesmer is apt since Klesmer has the power to arouse musical rapture in his listeners as well. At a gathering at the Arrowpoints, Klesmer plays his own composition, and he certainly fetched as much variety and depth of passion out of the piano as that moderately responsive instrument lends itself 32 \n",
      " to, having an imperious magic in his fingers that seemed to send a nerve-thrill through ivory key and wooden hammer, and compel the strings to make a quivering lingering speech for him. Gwendolen, in spite of her wounded egoism, had fullness of nature enough to feel the power of this playing, and it gradually turned her inward sob of mortification into an excitement which lifted her for the moment into a desperate indifference about her own doings, or at least a determination to get a superiority over them by laughing at them as if they belonged to somebody else. Her eyes had become brighter, her cheeks slightly flushed, and her tongue ready for any mischievous remarks. (39-40) The piano responds to Klesmer's touch, the \"magic in his fingers,\" in sensual, human terms: the keys become nerve endings subject to \"nerve-thrill\" and the strings become vocal chords producing \"quivering lingering speech\" as he brings \"passion\" out of the instrument. Likewise, Klesmer elicits a sensual response from Gwendolen, an \"excitement\" which makes her forget herself, brightening her eyes and flushing cheeks. The sexual language used to depict both the instrument's and Gwendolen's response to Klesmer's performance suggests an analogy between women's sexuality and the piano. The piano was an instrument to awaken female sexual desire. To return to Emma, another piano figures prominently in the plot: Frank Churchill's anonymous gift to Jane Fairfax, a gift which suggests they may be keeping more than their engagement secret. All the characters in the novel remark upon Jane's skill at the piano, and Emma herself finds Jane's \"performance, both vocal and instrumental... infinitely superior to her own\" (208). Most feel it is a shame that one who plays so well should be without an instrument, and so it is a pleasant surprise, though one occasioning much gossip, when Jane mysteriously receives a square pianoforte. Emma, who speculates that Jane has retreated to Highbury after \"seduc[ing] Mr. Dixon's affections away from his wife,\" recognizes the gift as a token of his affection and proof of her suspicions of illicit activity (152). In Emma's mind, Nicholas Preus reminds us, this supposed relationship between Jane and Mr. Dixon is based on forbidden sexual attraction (204). Frank, the true giver, ironically concurs with Emma's suspicions, agreeing that he \"'can see it in no other light than as an offering of love'\" (199). The piano here metonymically represents relationships that do not conform to middle-class moral codes, either a single woman's seduction of a married man or a secret engagement that defies the social form of parental consent. Jane's noted skill at the piano suggests that her sexual desire plays a prominent role in both imagined and actual relationships. Frank is also a skilled musician, as he demonstrates when he joins Jane 33 \n",
      " in singing duets at the Cole's dinner party. The duets are a means of reexperiencing the intimacy they had at Weymouth, where \"[t]hey had sung together once or twice\" and where they were secretly engaged (208). Indeed, as they must maintain silence about this illicit engagement, and therefore affect a distance in their acquaintance, they can communicate only indirectly via music about their true feelings. When Frank, Emma and others visit Jane to hear her play her new pianoforte, Frank comments to Emma, within hearing of Jane, \"'What felicity it is to hear a tune again which has made one happy! If I mistake not, that was danced at Weymouth'\" (221-22). He goes on to state that the thoughtfulness of the anonymous piano giver in also sending sheet music indicates true affection. Frank signals his love for Jane by his comments on music, recalling a dance they shared and designating his gift as from the heart, while Jane expresses her feelings by playing the piano. After playing the tune that was danced at Weymouth, she turns to an Irish melody which also has particular associations. Frank comments to Emma that Jane \"'is playing 'Robin Adair' at this moment - his favorite\"' (222). Patrick Piggot points out the ambiguity in this statement, indicating that it is as likely Frank's favorite as Mr. Dixon's. \"It would be a natural thing for her to do after playing 'their' waltz\" (Piggot 101). Emma misinterprets Jane's blushing and smiling response to Frank's comments as her \"cherishing very reprehensible feelings\" for Mr. Dixon, thus analogically highlighting the sexual nature of the musical exchange (222). 11 By coding Jane's sexual desire with the piano, the morality of her supposed and actual relationships, which defy the conventions governing courtship and hint at premarital sex, is side-stepped and her economic situation comes to the fore. Since Jane has no fortune, if she does not marry she must become a governess or live with her lower-middle-class aunt and grandmother. Both are dreary options. Becoming a governess is described in terms of entering a convent since Jane, the \"devoted novitiate,\" would have to \"sacrifice, and retire from all the pleasures of life, of rational intercourse, equal society, peace and hope, to penance and mortification for ever\" (149). But life with her relations would be on the same terms as her grandmother's income is barely enough to support their household. In either case Jane's sexual desire would have to be repressed since, as Emma aptly if unconsciously notes, Jane requires a man to \"giv[e] her independence\" (152). Thus, in raising the specter of female sexual desire with the piano, Austen's text illuminates the economic and sexual constraints that middle-class ideology places on women. We need only to look at The Awakening Conscience (1854) to be reminded of how women's sexual desire was regulated by economic threat. In this painting, William Holman Hunt depicts a woman sitting in the lap of her lover at the piano, half rising as she is awakened to the immorality of her 34 \n",
      " present situation (Fig. 1). Critics often point to the \"literary\" nature of this painting, its images inviting narrative constructions. Indeed, Helene Roberts argues that during the first quarter of the Victorian period sentiment came to predominate over sensuality in painting, a shift which required the painter to \"tell enough about the heroine's character to prove her worthy of regard\" and to \"involve the heroine in a situation in which her response will win the viewer's sympathy. In other words, the artist must tell a story\" (46). Conveying this story to the viewer requires culturally recognizable symbols to be effective, and Roberts notes that \"Victorian painters became adroit at exploiting visual signs and contriving associative stimuli,\" relying on a literate audience to recognize character types and fill in backgrounds (46). Critics ranging from Holman Hunt's contemporary, John Ruskin, to the present day have remarked that The Awakening Conscience is replete with objects and iconography reflecting and reinforcing the narrative of the fallen woman. Everything from the wallpaper, to the furniture, to the objects in the room, to the woman's attire, to the man's physiogomy, to the frame of the painting itself, has been noted for its reflection of the theme of sexual seduction, everything except the piano. However, placing the woman and her lover at the piano further emphasizes that she has lost her virtue by raising the specter of her sexual desire. Significantly, the gentleman is playing her instrument while she sits in his lap, indicating that he exerts sexual power over her and that her fall likely was due to his seduction.12 The wealth of detail which provides a narrative of events leading to this moment of awakening conscience, however, renders the painting's moral ambiguous. For instance, Roberts argues that Holman Hunt relies on the fact that the lyrics of the song titles legible on the sheet music would be familiar to Victorian audiences, thereby giving clues to the woman's state of mind - her regret and remorse at her present situation (66). 13 Robert Peters, on the other hand, suggests that the painting's meticulous detail obscures Holman Hunt's didactic intentions. He argues that the room is \"so invitingly opulent\" that the story's moral is read with \"some difficulty\" (208). I would argue, however, that the room's opulency is meant to contrast with the dirty streets the woman will end up on as her downward trajectory from innocence to degradation, middle-class angel to working-class whore, continues. Nevertheless, Hunt makes this final outcome ambiguous as he depicts the woman at the moment of her epiphany. As she realizes her fall from moral purity, she becomes an object of pity for the viewer. Ruskin remarks in his letter to The Times that the scene is \"tragical\": \"the very hem of the girl's dress, at which the painter has laboured so closely, thread by thread, has a story in it, if we think how soon its pure whiteness may be soiled with the dust and rain, her outcast feet failing in the street\" (qtd. in Roberts 67). Not in her father's house nor her husband's, she is soon to be homeless. Pity 35 \n",
      " Figure 1 W. Holman Hunt, The Awakening Conscience (1854) 36 \n",
      " for this outcast woman \"deflects the power [she poses in defying middleclass codes of morality] and redistributes it in terms of a conventional paternalistic relationship organized around social conscience, compassion and philanthropy\" (Nead, \"Magdalen\" 31). Portraying the fallen woman as a victim neutralizes the transgressive threat she poses to middle-class ideology. In \"reading\" the painting, the viewer then reifies this ideology. By piecing together a narrative from the culturally-encoded symbols, the viewer diffuses the woman's sexual power by pitying her loss of purity and impending loss of class status and by accepting that the two are naturally and inextricably linked. However, figuring middle-class female sexual desire in the piano - outside the body but contained within the domestic realm - allows women access to it, allows them to arouse and manipulate their own sexuality, to seduce without contact.14 The piano, then, offered opportunities for representations of women's active sexual desire. In Middlemarch (1871-72), George Eliot explores all facets of the piano's symbolism through the character of Rosamond Vincy. From a newly middle-class family, the daughter of a manufacturer and an innkeeper's daughter, Rosamond learns to play the piano at Mrs. Lemon's finishing school where she acquires all the accomplishments of a woman with pretensions to gentility through marriage. In the hopes of landing a husband, Rosamond tightens the snare she has laid for Lydgate with her musical skills. The narrator describes her performance as follows: \"Rosamond, with the executant's instinct, had seized upon [her music teacher's] manner of playing, and gave forth his large rendering of noble music with the precision of an echo.... A hidden soul seemed to be flowing forth from Rosamond's fingers\" (132). Lydgate, mistaking this soul for hers, \"was taken possession of, and began to believe in her as something exceptional\" (132). His \"possession\" and deepened admiration for Rosamond indicate that she has aroused his desire with her \"exceptional\" talent. As the narrator's critique of Rosamond's performance indicates, however, her skill is not enough to entice Lydgate into marriage. Rather, it is the moment when Rosamond is uncharacteristically herself that causes Lydgate to fall in love with her. In an interview with Lydgate after Rosamond has begun to fear that he may not intend to marry her, she meets his eyes with tears in her own. \"At that moment she was as natural as she had ever been when she was five years old.... That moment of naturalness was the crystallizing feather-touch: it shook flirtation into love\" (247). Lydgate proposes to Rosamond on the spot. The piano does not disappear after this, however, but continues to preside over their courtship (Leng 55). Indeed, their lovemaking goes on \"in the corner of the drawing-room where the piano stood,\" indicating that sexual desire is decidedly a factor in this union (284). The association between sexual desire and the piano is plain to Mid- \n",
      " dlemarch society. Wishing to speak with Lydgate, Dorothea Brooke visits Rosamond for the first time and finds her with Will Ladislaw, the two having been singing together at the piano just before her entrance. Dorothea decides to seek Lydgate at the hospital since she wishes to conceal her errand, but is \"urged also by a vague discomfort\" to leave immediately (355). This discomfort is attributed to the situation she has just encountered, and she recalls as she drives away \"the notes of the man's voice and the accompanying piano, which she had not noted much at the time... and she found herself thinking with some wonder that Will Ladislaw was passing his time with Mrs. Lydgate in her husband's absence\" (355). While part of Dorothea's response is due to her as yet unrealized feelings for Will, she also responds to the impropriety of a married woman entertaining a single man at the piano, the physical intimacy afforded by the instrument highlighting the possible sexual nature of such an activity.15 Ironically, Ladislaw's flustered response to Dorothea's interruption suggests to Rosamond for the first time that \"women, even after marriage, might make conquests and enslave men\" (357). Thus, when Lydgate begins to disappoint her, Rosamond imagines she is making a second conquest of Ladislaw with their duets over the piano. The impropriety of this musical activity is noted in local gossip which Mrs. Cadwallader, the voice of middle-class morality, cheerfully relates to Dorothea: Ladislaw is making a sad dark-blue scandal by warbling continually with your Mr. Lydgate's wife, who they tell me is as pretty as pretty can be. It seems nobody ever goes into the house without finding this young gentleman lying on the rug or warbling at the piano. (513) This gossip causes Dorothea to remember with \"a vague uneasiness... that day when she had found Will Ladislaw with Mrs. Lydgate, and had heard his voice accompanied by the piano\" (513). For both Mrs. Cadwallader and Dorothea the activity at the piano is scandalous, suggesting that Middlemarch society considers illicit sexual behavior implicit in it. Rosamond, too, believes that their duets indicate a mutual sexual desire. Imagining Ladislaw's manner toward her to be the \"disguise of a deeper feeling,\" Rosamond constructs a little romance which was to vary the flatness of her life: Will Ladislaw was to always be a bachelor and live near her, always to be at her command, and have an understood though never fully expressed passion for her, which would be sending out lambent flames every now and then in interesting scenes. (616, 617) In her fantasy, the sexual desire she imagines she excites in Ladislaw reverses contemporary conceptions of male and female sexuality, with Ladislaw's latent sexuality responding to her initiation. However, as her per- 38 \n",
      " formance at the piano is a thin representation of her piano teacher's skill, so her sexual power is diluted by her artifice. She never is close to turning Will's affection from Dorothea. The piano can be metaphor for healthy female sexuality but, because it is a coded symbol, can be misread as a sign of an illicit sexual relationship, as Emma and Dorothea both misread piano-playing scenes. However, George Eliot mediates the reader's judgment of Rosamond: the pity generated by a falling woman which, as we have seen with The Awakening Conscience , reinforces patriarchal proscriptions on women's sexuality. Here, Dorothea's \"pitying fellowship\" for this woman at the piano causes her to visit Rosamond, to reassure her that not everyone believes the gossip about Lydgate, in spite of her certainty that Rosamond and Will are having an affair (651). Dorothea's selfless action, based on her sympathy for the state of Rosamond's marriage and consequent turn to Will, prevents Rosamond's eventual fall; she \"never committed a second compromising indiscretion\" (679). Sympathy replaces pity for the falling woman and, though mortified by Will's preference for Dorothea, she is not penalized for her active sexuality. Rather, she returns to relative domestic harmony with her husband, and the piano perhaps returns to the use Rev. Ha weis saw for it: relieving the stresses of middle-class domestic life. Thus the piano provides authors and artists of the nineteenth century a means of representing female sexual desire without overturning, and in some cases even endorsing, middle-class constructions of women's sexuality - but not without bringing the contradictions of its medical and class-bound definitions to the fore. NOTES 'Leon Plantinga terms the piano thus in \"The Piano and the Nineteenth Century\" (1). 2While women's sexuality then served as a class marker, within the middle classes there was no uniform representation of passionlessness. Nancy Cott contends that women's passionlessness was adopted by both feminists and social conservatives to argue in favor of women's participation in public life by the former, or for the value of separate spheres by the later. 3A grand pianoforte denotes a rather large increase in the Cole's income, not only because it would cost more than a smaller, square pianoforte, but also because of space limitations in middle-class homes. Leppert notes that grand pianos carried greater prestige because of their cost, \"[b]ut this prestige factor carried with it another sort of price tag; these large instruments, 'good' only for music, took up a lot of floor space\" at a time when living quarters were being downsized (113). Thus, the Cole's addi- 39 \n",
      " tion to their home made have been made expressly for the purpose of accommodating so large an instrument. 4Cynthia Eagle Russett discusses this at some length in Chapter 4 of Sexual Science: The Victorian Construction of Womanhood. 5Nicholas Temperley defines high art music as that intended for cultivated audiences familiar with contemporary European art music and which was intended to engage an intellectual response. He contrasts this type of music with both functional music, which he defines as \"intended to assist some other action - working, dancing, marching, worshipping - and so is not greatly concerned with listeners/' and popular music which was meant to be listened to but avoided intellectually challenging the audience (\"Introduction\" 4). Drawing-room music falls into this last category. 6Moreover, Derek B. Scott's examination of Victorian musical aesthetics suggests that women who attempted to professionalize their musical skill were ghettoized as drawing-room ballad composers. \"Contemporary social theory, domestic sphere ideology, the new scientia sexualis, and aesthetics of the sublime and the beautiful ensured that certain musical styles were considered unsuitable or even unnatural for women composers\" (91). Infusing metaphorical musical terms with contemporary definitions of masculinity and femininity \"effectively fenced off the category of 'greatness' in music as a male domain\" by calling into question the womanliness of any female composer who aspired to the only musical forms considered sublime - \"masculine\" ones (99). Female composers were relegated to producing for a female audience popular, sentimental music which underscored traditional gender ideology. 7The lack of commentary on working-class men playing the piano was likely due to the fact that pianos, affordable for the middle classes, were above the reach of the average working-class income for most of the century. There was, however, a great interest in teaching working class children to sing and sight-read music in the early Victorian period. See Bernarr Rainbow, \"The Rise of Popular Music Education in Nineteenth-Century England\" in The Lost Chord (17-41). 8Mary Burgan notes that in Victorian fiction the male virtuoso was stereotypically foreign, arguing that this mirrors the bias against men playing the piano (69). I would suggest that the non-English character of these fictional virtuosi serves to further effeminize them. 9This piano and others are described in Leppert and Wainwright. Wainwright notes that Burne-Jones also two designed two grand pianos (209). Critics debate about which musician Klesmer was modeled on, most commonly citing Liszt and Anton Rubinstein. Emily Auerbach contends 40 \n",
      " that the character is an amalgamation of Beethoven, Mendelssohn, Rubinstein, Liszt and fictional German Romantic musicians (167). See also Gray for a discussion of possible models (102-03). Mary Ann O'Farrell argues Emma's misreading of Jane's blush in this scene highlights the fantasy that identity is legible in the body's somatic expression (4-5). 12Lynn Nead argues that the man is of the aristocracy and, consequently, that the painting is a critique of his licentiousness in seducing an innocent girl, further solidifying middle-class identity on the basis of its moral code (\"Magdalen\" 36). 13The sheet music on the piano is for \"Oft in the Stilly Night\" from The Light of Other Days by Thomas Moore, while music for Tennyson's \"Tears, Idle Tears\" from The Princess lies on the floor. Roberts provides excerpts of lyrics from both (66). 14Nineteenth-century French novelist and artist Edmond de Goncourt noted the association of the piano with one form of illicit female sexuality activity, masturbation (Corbin 533). 15Andrew Leng reads this scene as an allusion to The Awakening Conscience , with Will corresponding to the gentleman at the piano and Rosamond, an analogue for Dorothea, corresponding to the woman. Remembrance of this scene later spurs Dorothea's sympathy for Lydgate which causes her again to visit Rosamond, again finding Rosamond in a compromising situation with Will. Dorothea's emotional response to this second scene leads finally to her \"awakening consciousness\" of her love for Will. Thus, Leng argues, Dorothea's story is \"George Eliot's dechristianized equivalent of Holman Hunt's Awakening Conscience \" (61). WORKS CITED Armstrong, Nancy. \"The Rise of the Domestic Woman.\" The Ideology of Conduct: Essays on Literature and the History of Sexuality. Ed. Nancy Armstrong and Leonard Tennenhouse. New York: Methuen, 1987. 96-141. Auerbach, Emily. Maestros , Dilettantes , and Philistines: The Musician in the Victorian Novel. New York: Peter Lang, 1989. Austen, Jane. Emma. New York: Bantam, 1981. Berger, John. Ways of Seeing. London: Penguin, 1972. Briggs, Asa. Victorian Things. Chicago: U of Chicago P, 1988. Burgan, Mary. \"Heroines at the Piano: Women and Music in Nineteenth- Century Fiction.\" Victorian Studies 30 (1986): 51-76. Burgess, Anthony. \"The Well-Tempered Revolution: A Consideration of the Piano's Social and Intellectual History.\" Gaines 3-39. 41 \n",
      " Corbin, Alain. \"The Lady's Hashish/' A History of Private Life: From the Fires of Revolution to the Great War. Vol. 4. Ed. Michelle Perrot. Cambridge: Harvard UP, 1990. 531-33. Cott, Nancy. \"Passionless: An Interpretation of Victorian Sexual Ideology, 1790-1850.\" Signs 4.2 (1978): 219-33. Edgeworth, Maria, and R.L. Edgeworth. Practical Education. Vol. 3. 2nd ed. 1801. Poole: Woodstock, 1996. Eliot, George. Middlemarch. Oxford: Oxford UP, 1986. - . Daniel Deronda. Oxford: Oxford UP, 1984. Foucault, Michel. The History of Sexuality Volume 1: An Introduction. Trans. Robert Hurley. New York: Vintage, 1978. Gaines, James R. ed. The Lives of the Piano. New York: Holt, 1981. Gray, Beryl. George Eliot and Music. New York: St. Martin's, 1989. Grilli, Stephanie. \"Pre-Raphaelitism and Phrenology.\" Pre-Raphaelite Papers ed. Leslie Parris. London: The Tate Gallery, 1984. 44-60. Grover, David S. \"A History of the Piano from 1709-1980.\" March 1997. Online posting. UK Piano Page, Airtime Internet Resources. 12 April 1999. Harding, Rosamond. The Pianoforte: Its History Traced to the Great Exhibition of 1851. Cambridge: Cambridge UP, 1933. Haweis, Rev. H.R. Music and Morals. New York: Harper & Brothers, 1876. Hunt, William Holman. The Awakening Conscience. 1853-54. Tate Gallery, London. Kaplan, Cora. \"Pandora's Box: Subjectivity, Class and Sexuality in Socialist Feminist Criticism.\" Sea Changes : Essays on Culture and Feminism. London: Verso, 1986. 147-76. Laqueur, Thomas. Making Sex: Body and Gender from the Greeks to Freud. Cambridge, Harvard UP, 1990. Leng, Andrew. \"Dorothea Brooke's 'Awakening Consciousness' and the Pre-Raphaelite Aesthetic in Middlemarch .\" AUMLA 75 (1991): 52-64. Leppert, Richard. \"Sexual Identity, Death, and the Family Piano.\" Nineteenth Century Music 16 (1992): 105-28. Loesser, Arthur. Men, Woman and Pianos: A Social History. New York: Simon, 1954. Mason, Michael. The Making of Victorian Sexuality. Oxford: Oxford UP, 1994. Nead, Lynda. Myths of Sexuality: Representations of Woman in Victorian Britain. Oxford: Basil Blackwell, 1988. Nead, Lynn. \"The Magdalen in Modern Times: The Mythology of the Fallen Woman in Pre-Raphaelite Painting.\" Oxford Art Journal 7.1 (1984): 26-37. O'Farrell, Mary Ann. Telling Complexions: The Nineteenth-Century Novel and the Blush. Durham: Duke UP, 1997. Peters, Robert L. \"Algernon Charles Swinburne and the Use of Integral Detail.\" Sambrook 206-19. 42 \n",
      " Piggot, Patrick. The Innocent Diversion: A Study of Music in the Life and Writings of Jane Austen. London: Douglas Cleverdon, 1979. Plantinga, Leon. \"The Piano and the Nineteenth Century.' Nineteenth- Century Piano Music. Ed. Larry Todd. New York: Schirmer Books, 1990. 1-15. Preus, Nicholas E. \"Sexuality in Emma : A Case History.\" Studies in the Novel 23.2 (1991): 196-216. Rainbow, Bernarr. \"The Rise of Popular Music in Nineteenth-Century England.\" Temperley, The Lost Chord 17-41. Roberts, Helene. \"Marriage, Redundancy or Sin: The Painter's View of Women in the First Twenty-Five Years of Victoria's Reign.\" Suffer and Be Still: Women in the Victorian Age. Ed. Martha Vicinus. Bloomington: Indiana UP, 1972. 45-76. Russett, Cynthia. Sexual Science: The Victorian Construction of Womanhood. Cambridge: Harvard UP, 1989. Sambrook, James, ed. Pre-Raphaelitism: A Collection of Critical Essays. Chicago: U of Chicago P, 1974. Scott, Derek B. \"The Sexual Politics of Victorian Musical Aesthetics.\" Journal of the Royal Musical Association 1119.1 (1994): 91-114. Sennett, Richard. \"Pianists in Their Time: A Memoir.\" Gaines 187-208. Swan, Annalyn. \"Enlightenment's Gift to the Age of Romance: How the Piano Came to Be.\" Gaines 41-73. Temperley, Nicholas. \"Introduction: The State of Research on Victorian Music.\" The Lost Chord: Essays on Victorian Music. Ed. Nicholas Temperley. Bloomington: Indiana UP, 1989. 1-16. - , ed. Music in Britain : The Romantic Age 1800-1914. London: Athlone, 1981. - . \"Introduction.\" Temperley 1-8. - . \"Ballroom and Drawing-Room Music.\" Temperley 109-34. Thackeray, William. Vanity Fair. Boston: Houghton, 1963. Wainwright, David. Broadwood by Appointment : A History. London: Quiller, 1982. Weber, William. Music and the Middle Class: The Social Structure of Concert Life in London , Paris and Vienna. London: Croom Helm, 1975. 43\n"
     ]
    }
   ],
   "source": [
    "print(cleaned_article_text.text)"
   ]
  },
  {
   "cell_type": "markdown",
   "metadata": {},
   "source": [
    "### Step 3: Copy the actual quoted text from *Middlemarch* as it appears exactly in the article text above"
   ]
  },
  {
   "cell_type": "markdown",
   "metadata": {},
   "source": [
    "### Step 4: Paste the text of the quotation in the `quotation` field below\n",
    "Make sure that you enclose the quotation in quotation marks.\n",
    "\n",
    "If there are are quotation marks in the text of the quote, either place an escape character `\\` in front of them, or change the quotation marks that you use. (Eg, if there are single quotes (`'`) in the text, use double quotes (`\"`) to surround the text.\n",
    "\n",
    "Run the cell below."
   ]
  },
  {
   "cell_type": "code",
   "execution_count": null,
   "metadata": {},
   "outputs": [],
   "source": []
  },
  {
   "cell_type": "code",
   "execution_count": 50,
   "metadata": {},
   "outputs": [
    {
     "name": "stdout",
     "output_type": "stream",
     "text": [
      "Article id: http://www.jstor.org/stable/42827934\n",
      "Starting index: 9601\n",
      "Ending index: 9967\n",
      "Quotation text and indexes to paste into spreadsheet:\n",
      "At home... he had his long legs stretched on the sofa, his head thrown back, and his hands clasped behind it according to his favorite ruminating attitude, while Rosamond sat at the piano, and played one tune after another, of which her husband only knew (like the emotional elephant he was!) that they fell in with his mood as if they had been melodious sea-breezes\t[9601, 9967]\n",
      "\n",
      "\n",
      "Sanity check (does this match the text above?):\n"
     ]
    },
    {
     "data": {
      "text/plain": [
       "'At home... he had his long legs stretched on the sofa, his head thrown back, and his hands clasped behind it according to his favorite ruminating attitude, while Rosamond sat at the piano, and played one tune after another, of which her husband only knew (like the emotional elephant he was!) that they fell in with his mood as if they had been melodious sea-breezes'"
      ]
     },
     "execution_count": 50,
     "metadata": {},
     "output_type": "execute_result"
    }
   ],
   "source": [
    "# PASTE the quotation below in the field, replacing the text below ‼️\n",
    "# Make sure to include quotation marks around the string\n",
    "quotation = \"At home... he had his long legs stretched on the sofa, his head thrown back, and his hands clasped behind it according to his favorite ruminating attitude, while Rosamond sat at the piano, and played one tune after another, of which her husband only knew (like the emotional elephant he was!) that they fell in with his mood as if they had been melodious sea-breezes\" #pas\n",
    "\n",
    "index = cleaned_article_text.text.rindex(quotation)\n",
    "print(f\"Article id: {article_id}\")\n",
    "print('Starting index:', index) \n",
    "print('Ending index:', index + len(quotation))\n",
    "print(f'Quotation text and indexes to paste into spreadsheet:\\n{quotation}\\t[{index}, {index + len(quotation)}]')\n",
    "print(\"\\n\\nSanity check (does this match the text above?):\")\n",
    "cleaned_article_text.text[index:index + len(quotation)]\n",
    "\n"
   ]
  },
  {
   "cell_type": "markdown",
   "metadata": {},
   "source": [
    "### Step 5: Record the character indexes and article id in spreadsheet\n",
    "Add the character indexes and article ID as a new row in a spreadsheet"
   ]
  }
 ],
 "metadata": {
  "kernelspec": {
   "display_name": "Python 3",
   "language": "python",
   "name": "python3"
  },
  "language_info": {
   "codemirror_mode": {
    "name": "ipython",
    "version": 3
   },
   "file_extension": ".py",
   "mimetype": "text/x-python",
   "name": "python",
   "nbconvert_exporter": "python",
   "pygments_lexer": "ipython3",
   "version": "3.10.7"
  },
  "vscode": {
   "interpreter": {
    "hash": "aee8b7b246df8f9039afb4144a1f6fd8d2ca17a180786b69acc140d282b71a49"
   }
  }
 },
 "nbformat": 4,
 "nbformat_minor": 1
}
