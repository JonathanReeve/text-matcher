{
 "cells": [
  {
   "cell_type": "markdown",
   "metadata": {},
   "source": [
    "# Checking and retrieving character indexes from quotations\n",
    "\n",
    "\n",
    "What you will need to run this notebook:\n",
    "\n",
    "+ The Project Gutenberg fulltext of your source text (text A). In this case, the Project Gutenberg version of *Middlemarch*: `middlemarch.txt`. This should already be in the Github repository.\n",
    "+ The JSON file with the output of `text-matcher`. In this case, this is `jstor-middlemarch-articles.json`. You can download it from here: https://drive.google.com/drive/folders/1N1IXEy5CGEKplru0R6KNzj5kDLwxMVDC?usp=share_link\n",
    "\n",
    "Both of these files must be in the same directory as this notebook for the filepaths below to run correctly. You should move the JSON file into this directory, and remember to delete it and empty your Trash when you finish working on this task.\n",
    "\n",
    "In addition, you should open [the `middlemarch-ground-truth-indexes` Google Sheet](https://docs.google.com/spreadsheets/d/1I1xEVKGQIf9eGvfLs_l0rCRmSz5GYVmHmRbWzUBWIRc/edit?usp=share_link)\n",
    "\n",
    "\n",
    "### A preliminary note about  character indexes:\n",
    "\n",
    "A match in text matcher takes the form of a pair, or a list of pairs, of character indexes. These character indexes store the position of a match and can be used to retrieve the corresponding text.\n",
    "\n",
    "Let's say you were looking at an output :  [[173657, 173756], [292143, 292406]]. \n",
    "\n",
    "In each pair, the first number corresponds to the **starting character index**, and the second number corresponds to the **ending character index** of a quotation. \n",
    "\n",
    "So in this example, for match [173657, 173756].\n",
    "+ the **starting charcter** is 173657\n",
    "+ the **ending character** is 173756"
   ]
  },
  {
   "cell_type": "markdown",
   "metadata": {},
   "source": [
    "### Import libraries\n",
    "Run the cell below to import libraries"
   ]
  },
  {
   "cell_type": "code",
   "execution_count": 1,
   "metadata": {},
   "outputs": [],
   "source": [
    "from text_matcher.matcher import Text, Matcher\n",
    "import json\n",
    "import pandas as pd\n",
    "from IPython.display import clear_output\n",
    "%matplotlib inline\n",
    "import matplotlib.pyplot as plt\n",
    "plt.rcParams[\"figure.figsize\"] = [16, 6]\n",
    "#pd.set_option('display.max_colwidth', None)"
   ]
  },
  {
   "cell_type": "markdown",
   "metadata": {},
   "source": [
    "### Load in our data files:"
   ]
  },
  {
   "cell_type": "code",
   "execution_count": 2,
   "metadata": {},
   "outputs": [],
   "source": [
    "# Load Middlemarch .txt file \n",
    "# (Note: must have 'middlemarch.txt' in this directory)\n",
    "with open('middlemarch.txt') as f: \n",
    "    rawMM = f.read()\n",
    "\n",
    "mm = Text(rawMM, 'Middlemarch')\n",
    "\n",
    "# Load in the JSON file with our JSTOR articles and data from TextMatcher\n",
    "# (Note: must have the file 'default.json' in the same directory as this notebook)\n",
    "df = pd.read_json('jstor-middlemarch-articles.json')"
   ]
  },
  {
   "cell_type": "code",
   "execution_count": 3,
   "metadata": {},
   "outputs": [
    {
     "data": {
      "text/html": [
       "<div>\n",
       "<style scoped>\n",
       "    .dataframe tbody tr th:only-of-type {\n",
       "        vertical-align: middle;\n",
       "    }\n",
       "\n",
       "    .dataframe tbody tr th {\n",
       "        vertical-align: top;\n",
       "    }\n",
       "\n",
       "    .dataframe thead th {\n",
       "        text-align: right;\n",
       "    }\n",
       "</style>\n",
       "<table border=\"1\" class=\"dataframe\">\n",
       "  <thead>\n",
       "    <tr style=\"text-align: right;\">\n",
       "      <th></th>\n",
       "      <th>creator</th>\n",
       "      <th>datePublished</th>\n",
       "      <th>docSubType</th>\n",
       "      <th>docType</th>\n",
       "      <th>fullText</th>\n",
       "      <th>id</th>\n",
       "      <th>identifier</th>\n",
       "      <th>isPartOf</th>\n",
       "      <th>issueNumber</th>\n",
       "      <th>language</th>\n",
       "      <th>...</th>\n",
       "      <th>title</th>\n",
       "      <th>url</th>\n",
       "      <th>volumeNumber</th>\n",
       "      <th>wordCount</th>\n",
       "      <th>numMatches</th>\n",
       "      <th>Locations in A</th>\n",
       "      <th>Locations in B</th>\n",
       "      <th>abstract</th>\n",
       "      <th>keyphrase</th>\n",
       "      <th>subTitle</th>\n",
       "    </tr>\n",
       "  </thead>\n",
       "  <tbody>\n",
       "    <tr>\n",
       "      <th>0</th>\n",
       "      <td>[Rainer Emig]</td>\n",
       "      <td>2006-01-01</td>\n",
       "      <td>book-review</td>\n",
       "      <td>article</td>\n",
       "      <td>[Monika Mueller, George Eliot U.S.: Transat- l...</td>\n",
       "      <td>http://www.jstor.org/stable/41158244</td>\n",
       "      <td>[{'name': 'issn', 'value': '03402827'}, {'name...</td>\n",
       "      <td>Amerikastudien / American Studies</td>\n",
       "      <td>3</td>\n",
       "      <td>[eng]</td>\n",
       "      <td>...</td>\n",
       "      <td>Review Article</td>\n",
       "      <td>http://www.jstor.org/stable/41158244</td>\n",
       "      <td>51</td>\n",
       "      <td>1109</td>\n",
       "      <td>0</td>\n",
       "      <td>[]</td>\n",
       "      <td>[]</td>\n",
       "      <td>NaN</td>\n",
       "      <td>NaN</td>\n",
       "      <td>NaN</td>\n",
       "    </tr>\n",
       "    <tr>\n",
       "      <th>1</th>\n",
       "      <td>[Martin Green]</td>\n",
       "      <td>1970-01-01</td>\n",
       "      <td>book-review</td>\n",
       "      <td>article</td>\n",
       "      <td>[Reviews I57 Thackeray's Critics: An Annotated...</td>\n",
       "      <td>http://www.jstor.org/stable/3722819</td>\n",
       "      <td>[{'name': 'issn', 'value': '00267937'}, {'name...</td>\n",
       "      <td>The Modern Language Review</td>\n",
       "      <td>1</td>\n",
       "      <td>[eng]</td>\n",
       "      <td>...</td>\n",
       "      <td>Review Article</td>\n",
       "      <td>http://www.jstor.org/stable/3722819</td>\n",
       "      <td>65</td>\n",
       "      <td>1342</td>\n",
       "      <td>0</td>\n",
       "      <td>[]</td>\n",
       "      <td>[]</td>\n",
       "      <td>NaN</td>\n",
       "      <td>NaN</td>\n",
       "      <td>NaN</td>\n",
       "    </tr>\n",
       "    <tr>\n",
       "      <th>2</th>\n",
       "      <td>[Richard Exner]</td>\n",
       "      <td>1982-01-01</td>\n",
       "      <td>book-review</td>\n",
       "      <td>article</td>\n",
       "      <td>[Essays Mary McCarthy. Ideas and the Novel. Ne...</td>\n",
       "      <td>http://www.jstor.org/stable/40137021</td>\n",
       "      <td>[{'name': 'issn', 'value': '01963570'}, {'name...</td>\n",
       "      <td>World Literature Today</td>\n",
       "      <td>1</td>\n",
       "      <td>[eng]</td>\n",
       "      <td>...</td>\n",
       "      <td>Review Article</td>\n",
       "      <td>http://www.jstor.org/stable/40137021</td>\n",
       "      <td>56</td>\n",
       "      <td>493</td>\n",
       "      <td>0</td>\n",
       "      <td>[]</td>\n",
       "      <td>[]</td>\n",
       "      <td>NaN</td>\n",
       "      <td>NaN</td>\n",
       "      <td>NaN</td>\n",
       "    </tr>\n",
       "  </tbody>\n",
       "</table>\n",
       "<p>3 rows × 30 columns</p>\n",
       "</div>"
      ],
      "text/plain": [
       "           creator datePublished   docSubType  docType  \\\n",
       "0    [Rainer Emig]    2006-01-01  book-review  article   \n",
       "1   [Martin Green]    1970-01-01  book-review  article   \n",
       "2  [Richard Exner]    1982-01-01  book-review  article   \n",
       "\n",
       "                                            fullText  \\\n",
       "0  [Monika Mueller, George Eliot U.S.: Transat- l...   \n",
       "1  [Reviews I57 Thackeray's Critics: An Annotated...   \n",
       "2  [Essays Mary McCarthy. Ideas and the Novel. Ne...   \n",
       "\n",
       "                                     id  \\\n",
       "0  http://www.jstor.org/stable/41158244   \n",
       "1   http://www.jstor.org/stable/3722819   \n",
       "2  http://www.jstor.org/stable/40137021   \n",
       "\n",
       "                                          identifier  \\\n",
       "0  [{'name': 'issn', 'value': '03402827'}, {'name...   \n",
       "1  [{'name': 'issn', 'value': '00267937'}, {'name...   \n",
       "2  [{'name': 'issn', 'value': '01963570'}, {'name...   \n",
       "\n",
       "                            isPartOf issueNumber language  ...  \\\n",
       "0  Amerikastudien / American Studies           3    [eng]  ...   \n",
       "1         The Modern Language Review           1    [eng]  ...   \n",
       "2             World Literature Today           1    [eng]  ...   \n",
       "\n",
       "            title                                   url volumeNumber  \\\n",
       "0  Review Article  http://www.jstor.org/stable/41158244           51   \n",
       "1  Review Article   http://www.jstor.org/stable/3722819           65   \n",
       "2  Review Article  http://www.jstor.org/stable/40137021           56   \n",
       "\n",
       "  wordCount numMatches Locations in A  Locations in B abstract keyphrase  \\\n",
       "0      1109          0             []              []      NaN       NaN   \n",
       "1      1342          0             []              []      NaN       NaN   \n",
       "2       493          0             []              []      NaN       NaN   \n",
       "\n",
       "  subTitle  \n",
       "0      NaN  \n",
       "1      NaN  \n",
       "2      NaN  \n",
       "\n",
       "[3 rows x 30 columns]"
      ]
     },
     "execution_count": 3,
     "metadata": {},
     "output_type": "execute_result"
    }
   ],
   "source": [
    "# Let's peek inside our DataFrame\n",
    "df.head(3)"
   ]
  },
  {
   "cell_type": "markdown",
   "metadata": {},
   "source": [
    "# Check quotation matches for particular articles\n"
   ]
  },
  {
   "cell_type": "markdown",
   "metadata": {},
   "source": [
    "## Set the `article_id` ‼️\n",
    "\n",
    "In the cell below, change the variable `article_id` to the id of the article you wish to examine.\n",
    "\n",
    "**Where can I find the article id?**\n",
    "\n",
    "+ This can be found in the `id` column of the [Google Sheet](https://docs.google.com/spreadsheets/d/1I1xEVKGQIf9eGvfLs_l0rCRmSz5GYVmHmRbWzUBWIRc/edit?usp=share_link)\n",
    "\n",
    "*Note: JSTOR outputs the fulltext of articles text as a list of strings, so we have to concatenate them using text-matcher;s `Text()` function.*\n"
   ]
  },
  {
   "cell_type": "code",
   "execution_count": 5,
   "metadata": {},
   "outputs": [
    {
     "name": "stdout",
     "output_type": "stream",
     "text": [
      "\n",
      "Article selected:\n",
      "ID: http://www.jstor.org/stable/25088885\n",
      "Title: Self-Suppression & Attachment: Mid-Victorian Emotional Life\n",
      "\n"
     ]
    }
   ],
   "source": [
    "# ‼️ 🛑 Make sure to change the variable below to the correct article id 🛑  ‼️\n",
    "article_id  = 'http://www.jstor.org/stable/xxxxxxxxx' # CHANGE THIS to article id\n",
    "\n",
    "# Use article_id to get the index of the article in our DataFrame\n",
    "article_index = df[df['id'] == article_id].index[0]\n",
    "article_text = df['fullText'].loc[article_index]\n",
    "article_title = df['title'].loc[article_index]\n",
    "\n",
    "# Assign the full text of this article to a variable called `cleaned_article_text`, with text-matcher's Text function\n",
    "cleaned_article_text = Text(article_text, article_title)\n",
    "\n",
    "# Print out the title and ID of the article we selected as confirmation\n",
    "print(f\"\"\"\n",
    "Article selected:\n",
    "ID: {article_id}\n",
    "Title: {article_title}\n",
    "\"\"\")\n"
   ]
  },
  {
   "cell_type": "markdown",
   "metadata": {},
   "source": [
    "## Part 1: Get quotes (& their character indexes) from `text-matcher` output\n"
   ]
  },
  {
   "cell_type": "markdown",
   "metadata": {},
   "source": [
    "### What are the index positions of matches in our source text (Text \"A\")?\n",
    "Retrieve the character indexes in for the source text (Text A):"
   ]
  },
  {
   "cell_type": "code",
   "execution_count": 7,
   "metadata": {
    "scrolled": true
   },
   "outputs": [
    {
     "name": "stdout",
     "output_type": "stream",
     "text": [
      "Middlemarch character indexes:\n"
     ]
    },
    {
     "data": {
      "text/plain": [
       "[[173657, 173756], [292143, 292406]]"
      ]
     },
     "execution_count": 7,
     "metadata": {},
     "output_type": "execute_result"
    }
   ],
   "source": [
    "# What are the locations in A?\n",
    "print(\"Middlemarch character indexes:\")\n",
    "df.loc[df['id'] == article_id, 'Locations in A'].item()"
   ]
  },
  {
   "cell_type": "markdown",
   "metadata": {},
   "source": [
    "### What's the text of one of those matches?\n",
    "\n",
    "Let's check the corresponding text in Middlemarch for one of the matches output above.  \n",
    "Change the start and end character indexes to one of the index ranges in the cell above. "
   ]
  },
  {
   "cell_type": "code",
   "execution_count": 8,
   "metadata": {},
   "outputs": [
    {
     "name": "stdout",
     "output_type": "stream",
     "text": [
      "Middlemarch character indexes: [173657, 173756]\n"
     ]
    },
    {
     "data": {
      "text/plain": [
       "'all of\\nus, grave or light, get our thoughts entangled in metaphors, and act\\nfatally on the strength'"
      ]
     },
     "execution_count": 8,
     "metadata": {},
     "output_type": "execute_result"
    }
   ],
   "source": [
    "#‼️ 🛑 IMPORTANT: Change the start and end character indexes to one of the ouputs above\n",
    "\n",
    "mm_start = 173657 # 🛑 REPLACE the number with one of the starting character indexes\n",
    "mm_end = 173756 # 🛑 REPLACE the number with one of the ending character indexes\n",
    "\n",
    "# Output the text in \"A\" for the start and end characters selected above\n",
    "print(\"Middlemarch character indexes:\", f\"[{mm_start}, {mm_end}]\")\n",
    "mm.text[mm_start:mm_end]"
   ]
  },
  {
   "cell_type": "markdown",
   "metadata": {},
   "source": [
    "### What are the indexes positions of matches in our target text (Text \"B\")?\n",
    "Retrieve the indexes in the B text (that is, the article index: "
   ]
  },
  {
   "cell_type": "code",
   "execution_count": 9,
   "metadata": {},
   "outputs": [
    {
     "name": "stdout",
     "output_type": "stream",
     "text": [
      "Character index locations for http://www.jstor.org/stable/30030019:\n"
     ]
    },
    {
     "data": {
      "text/plain": [
       "[[14718, 14816], [64553, 64816]]"
      ]
     },
     "execution_count": 9,
     "metadata": {},
     "output_type": "execute_result"
    }
   ],
   "source": [
    "# What are the locations in B?\n",
    "print(f\"Character index locations for {article_id}:\")\n",
    "df.loc[df['id'] == article_id, 'Locations in B'].item()"
   ]
  },
  {
   "cell_type": "markdown",
   "metadata": {},
   "source": [
    "### What's the text of one of those matches in Text \"B\" (the article)?\n",
    "Change the start and end character indexes to one of the index ranges in the cell above."
   ]
  },
  {
   "cell_type": "code",
   "execution_count": 10,
   "metadata": {},
   "outputs": [
    {
     "name": "stdout",
     "output_type": "stream",
     "text": [
      "Character index locations for http://www.jstor.org/stable/30030019: [14718, 14816]\n"
     ]
    },
    {
     "data": {
      "text/plain": [
       "'All of us, grave or light, get our thoughts entangled in metaphors and act fatally on the strength'"
      ]
     },
     "execution_count": 10,
     "metadata": {},
     "output_type": "execute_result"
    }
   ],
   "source": [
    "#‼️ 🛑 IMPORTANT: Change the start and end character indexes to one of the ouputs above\n",
    "\n",
    "textB_start = 14718 # 🛑 REPLACE the number to the left with one of the starting character indexes\n",
    "textB_end = 14816 # 🛑 REPLACE the number to the left with one of the ending character indexes\n",
    "\n",
    "# Output the text in \"B\" for the start and end characters selected above \n",
    "print(f\"Character index locations for {article_id}:\", f\"[{textB_start}, {textB_end}]\")\n",
    "cleaned_article_text.text[textB_start:textB_end]"
   ]
  },
  {
   "cell_type": "markdown",
   "metadata": {},
   "source": [
    "---"
   ]
  },
  {
   "cell_type": "markdown",
   "metadata": {},
   "source": [
    "## Find the index positions of a given quotation\n",
    "\n",
    "To establish all of the \"ground truth\" quotations (and their character indexes), we'll want to get the index characters not just for quotations that text-matcher successfully matched, but for *all* quotations in that article.\n",
    "\n",
    "To retrieve the index characters for all quotations in an article legilbe to human eyes, follow the following steps.\n"
   ]
  },
  {
   "cell_type": "markdown",
   "metadata": {},
   "source": [
    "### Step 1: Locate the quotation in the PDF of the article."
   ]
  },
  {
   "cell_type": "markdown",
   "metadata": {},
   "source": [
    "### Step 2:  Locate the text of that quotation as it appears in the JSON file in the \"\"fullText\" field\n",
    "(🛑 Make sure you've entered the `article_id` for the article in the section \"Set the `article_id`\", first!!)  \n",
    "Run the cell below, and then use \"CTRL+F\" in your browser to find the quotation as it appears in the article text."
   ]
  },
  {
   "cell_type": "code",
   "execution_count": null,
   "metadata": {},
   "outputs": [],
   "source": [
    "print(cleaned_article_text.text)"
   ]
  },
  {
   "cell_type": "markdown",
   "metadata": {},
   "source": [
    "### Step 3: Copy that text of the quotation as it appears exactly in the article text above."
   ]
  },
  {
   "cell_type": "markdown",
   "metadata": {},
   "source": [
    "### Step 4: Paste the text of the quotation in the `quotation` field below\n",
    "Make sure that you enclose the quotation in quotation marks.\n",
    "\n",
    "If there are are quotation marks in the text of the quote, either place an escape character `\\` in front of them, or change the quotation marks that you use. (Eg, if there are single quotes (`'`) in the text, use double quotes (`\"`) to surround the text.\n",
    "\n",
    "Run the cell below."
   ]
  },
  {
   "cell_type": "code",
   "execution_count": 12,
   "metadata": {},
   "outputs": [
    {
     "name": "stdout",
     "output_type": "stream",
     "text": [
      "Article id: http://www.jstor.org/stable/30030019\n",
      "Starting index: 14718\n",
      "Ending index: 14816\n",
      "Character indexes for match: [14718, 14816]\n",
      "\n",
      " Corresponding text:\n"
     ]
    },
    {
     "data": {
      "text/plain": [
       "'All of us, grave or light, get our thoughts entangled in metaphors and act fatally on the strength'"
      ]
     },
     "execution_count": 12,
     "metadata": {},
     "output_type": "execute_result"
    }
   ],
   "source": [
    "# PASTE the quotation below in the field, replacing the text below ‼️\n",
    "# Make sure to include quotation marks around the string\n",
    "quotation = \"All of us, grave or light, get our thoughts entangled in metaphors and act fatally on the strength\" #pas\n",
    "\n",
    "index = cleaned_article_text.text.rindex(quotation)\n",
    "print(f\"Article id: {article_id}\")\n",
    "print('Starting index:', index) \n",
    "print('Ending index:', index + len(quotation))\n",
    "print(f'Character indexes for match: [{index}, {index + len(quotation)}]')\n",
    "print(\"\\n Corresponding text:\")\n",
    "cleaned_article_text.text[index:index + len(quotation)]\n",
    "\n"
   ]
  },
  {
   "cell_type": "markdown",
   "metadata": {},
   "source": [
    "### Step 5: Record the character indexes and article id in spreadsheet\n",
    "Add the character indexes and article ID as a new row in a spreadsheet"
   ]
  }
 ],
 "metadata": {
  "kernelspec": {
   "display_name": "Python 3",
   "language": "python",
   "name": "python3"
  },
  "language_info": {
   "codemirror_mode": {
    "name": "ipython",
    "version": 3
   },
   "file_extension": ".py",
   "mimetype": "text/x-python",
   "name": "python",
   "nbconvert_exporter": "python",
   "pygments_lexer": "ipython3",
   "version": "3.8.5"
  }
 },
 "nbformat": 4,
 "nbformat_minor": 1
}
