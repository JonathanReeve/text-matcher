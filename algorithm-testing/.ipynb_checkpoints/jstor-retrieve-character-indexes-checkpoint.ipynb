{
 "cells": [
  {
   "cell_type": "markdown",
   "metadata": {},
   "source": [
    "# Checking and retrieving character indexes from quotations\n",
    "\n",
    "\n",
    "What you will need to run this notebook:\n",
    "\n",
    "+ The Project Gutenberg fulltext of your source text (text A). In this case, the Project Gutenberg version of *Middlemarch*: `middlemarch.txt`. This should already be in the Github repository.\n",
    "+ The JSON file with the output of `text-matcher`. In this case, this is `jstor-middlemarch-articles.json`. You can download it from here: https://drive.google.com/drive/folders/1N1IXEy5CGEKplru0R6KNzj5kDLwxMVDC?usp=share_link\n",
    "\n",
    "Both of these files must be in the same directory as this notebook for the filepaths below to run correctly. You should move the JSON file into this directory, and remember to delete it and empty your Trash when you finish working on this task.\n",
    "\n",
    "In addition, you should open [the `middlemarch-ground-truth-indexes` Google Sheet](https://docs.google.com/spreadsheets/d/1I1xEVKGQIf9eGvfLs_l0rCRmSz5GYVmHmRbWzUBWIRc/edit?usp=share_link)\n",
    "\n",
    "\n",
    "### A preliminary note about  character indexes:\n",
    "\n",
    "A match in text matcher takes the form of a pair, or a list of pairs, of character indexes. These character indexes store the position of a match and can be used to retrieve the corresponding text.\n",
    "\n",
    "Let's say you were looking at an output :  [[173657, 173756], [292143, 292406]]. \n",
    "\n",
    "In each pair, the first number corresponds to the **starting character index**, and the second number corresponds to the **ending character index** of a quotation. \n",
    "\n",
    "So in this example, for match [173657, 173756].\n",
    "+ the **starting charcter** is 173657\n",
    "+ the **ending character** is 173756"
   ]
  },
  {
   "cell_type": "markdown",
   "metadata": {},
   "source": [
    "### Import libraries\n",
    "Run the cell below to import libraries"
   ]
  },
  {
   "cell_type": "code",
   "execution_count": 12,
   "metadata": {},
   "outputs": [],
   "source": [
    "from text_matcher.matcher import Text, Matcher\n",
    "import json\n",
    "import pandas as pd\n",
    "from IPython.display import clear_output\n",
    "%matplotlib inline\n",
    "import matplotlib.pyplot as plt\n",
    "plt.rcParams[\"figure.figsize\"] = [16, 6]\n",
    "#pd.set_option('display.max_colwidth', None)"
   ]
  },
  {
   "cell_type": "markdown",
   "metadata": {},
   "source": [
    "### Load in our data files:"
   ]
  },
  {
   "cell_type": "code",
   "execution_count": 13,
   "metadata": {},
   "outputs": [],
   "source": [
    "# Load Middlemarch .txt file \n",
    "# (Note: must have 'middlemarch.txt' in this directory)\n",
    "with open('middlemarch.txt') as f: \n",
    "    rawMM = f.read()\n",
    "\n",
    "mm = Text(rawMM, 'Middlemarch')\n",
    "\n",
    "# Load in the JSON file with our JSTOR articles and data from TextMatcher\n",
    "# (Note: must have the file 'default.json' in the same directory as this notebook)\n",
    "df = pd.read_json('jstor-middlemarch-articles.json')"
   ]
  },
  {
   "cell_type": "code",
   "execution_count": 14,
   "metadata": {},
   "outputs": [
    {
     "data": {
      "text/html": [
       "<div>\n",
       "<style scoped>\n",
       "    .dataframe tbody tr th:only-of-type {\n",
       "        vertical-align: middle;\n",
       "    }\n",
       "\n",
       "    .dataframe tbody tr th {\n",
       "        vertical-align: top;\n",
       "    }\n",
       "\n",
       "    .dataframe thead th {\n",
       "        text-align: right;\n",
       "    }\n",
       "</style>\n",
       "<table border=\"1\" class=\"dataframe\">\n",
       "  <thead>\n",
       "    <tr style=\"text-align: right;\">\n",
       "      <th></th>\n",
       "      <th>creator</th>\n",
       "      <th>datePublished</th>\n",
       "      <th>docSubType</th>\n",
       "      <th>docType</th>\n",
       "      <th>fullText</th>\n",
       "      <th>id</th>\n",
       "      <th>identifier</th>\n",
       "      <th>isPartOf</th>\n",
       "      <th>issueNumber</th>\n",
       "      <th>language</th>\n",
       "      <th>...</th>\n",
       "      <th>title</th>\n",
       "      <th>url</th>\n",
       "      <th>volumeNumber</th>\n",
       "      <th>wordCount</th>\n",
       "      <th>numMatches</th>\n",
       "      <th>Locations in A</th>\n",
       "      <th>Locations in B</th>\n",
       "      <th>abstract</th>\n",
       "      <th>keyphrase</th>\n",
       "      <th>subTitle</th>\n",
       "    </tr>\n",
       "  </thead>\n",
       "  <tbody>\n",
       "    <tr>\n",
       "      <th>0</th>\n",
       "      <td>[Rainer Emig]</td>\n",
       "      <td>2006-01-01</td>\n",
       "      <td>book-review</td>\n",
       "      <td>article</td>\n",
       "      <td>[Monika Mueller, George Eliot U.S.: Transat- l...</td>\n",
       "      <td>http://www.jstor.org/stable/41158244</td>\n",
       "      <td>[{'name': 'issn', 'value': '03402827'}, {'name...</td>\n",
       "      <td>Amerikastudien / American Studies</td>\n",
       "      <td>3</td>\n",
       "      <td>[eng]</td>\n",
       "      <td>...</td>\n",
       "      <td>Review Article</td>\n",
       "      <td>http://www.jstor.org/stable/41158244</td>\n",
       "      <td>51</td>\n",
       "      <td>1109</td>\n",
       "      <td>0</td>\n",
       "      <td>[]</td>\n",
       "      <td>[]</td>\n",
       "      <td>NaN</td>\n",
       "      <td>NaN</td>\n",
       "      <td>NaN</td>\n",
       "    </tr>\n",
       "    <tr>\n",
       "      <th>1</th>\n",
       "      <td>[Martin Green]</td>\n",
       "      <td>1970-01-01</td>\n",
       "      <td>book-review</td>\n",
       "      <td>article</td>\n",
       "      <td>[Reviews I57 Thackeray's Critics: An Annotated...</td>\n",
       "      <td>http://www.jstor.org/stable/3722819</td>\n",
       "      <td>[{'name': 'issn', 'value': '00267937'}, {'name...</td>\n",
       "      <td>The Modern Language Review</td>\n",
       "      <td>1</td>\n",
       "      <td>[eng]</td>\n",
       "      <td>...</td>\n",
       "      <td>Review Article</td>\n",
       "      <td>http://www.jstor.org/stable/3722819</td>\n",
       "      <td>65</td>\n",
       "      <td>1342</td>\n",
       "      <td>0</td>\n",
       "      <td>[]</td>\n",
       "      <td>[]</td>\n",
       "      <td>NaN</td>\n",
       "      <td>NaN</td>\n",
       "      <td>NaN</td>\n",
       "    </tr>\n",
       "    <tr>\n",
       "      <th>2</th>\n",
       "      <td>[Richard Exner]</td>\n",
       "      <td>1982-01-01</td>\n",
       "      <td>book-review</td>\n",
       "      <td>article</td>\n",
       "      <td>[Essays Mary McCarthy. Ideas and the Novel. Ne...</td>\n",
       "      <td>http://www.jstor.org/stable/40137021</td>\n",
       "      <td>[{'name': 'issn', 'value': '01963570'}, {'name...</td>\n",
       "      <td>World Literature Today</td>\n",
       "      <td>1</td>\n",
       "      <td>[eng]</td>\n",
       "      <td>...</td>\n",
       "      <td>Review Article</td>\n",
       "      <td>http://www.jstor.org/stable/40137021</td>\n",
       "      <td>56</td>\n",
       "      <td>493</td>\n",
       "      <td>0</td>\n",
       "      <td>[]</td>\n",
       "      <td>[]</td>\n",
       "      <td>NaN</td>\n",
       "      <td>NaN</td>\n",
       "      <td>NaN</td>\n",
       "    </tr>\n",
       "  </tbody>\n",
       "</table>\n",
       "<p>3 rows × 30 columns</p>\n",
       "</div>"
      ],
      "text/plain": [
       "           creator datePublished   docSubType  docType  \\\n",
       "0    [Rainer Emig]    2006-01-01  book-review  article   \n",
       "1   [Martin Green]    1970-01-01  book-review  article   \n",
       "2  [Richard Exner]    1982-01-01  book-review  article   \n",
       "\n",
       "                                            fullText  \\\n",
       "0  [Monika Mueller, George Eliot U.S.: Transat- l...   \n",
       "1  [Reviews I57 Thackeray's Critics: An Annotated...   \n",
       "2  [Essays Mary McCarthy. Ideas and the Novel. Ne...   \n",
       "\n",
       "                                     id  \\\n",
       "0  http://www.jstor.org/stable/41158244   \n",
       "1   http://www.jstor.org/stable/3722819   \n",
       "2  http://www.jstor.org/stable/40137021   \n",
       "\n",
       "                                          identifier  \\\n",
       "0  [{'name': 'issn', 'value': '03402827'}, {'name...   \n",
       "1  [{'name': 'issn', 'value': '00267937'}, {'name...   \n",
       "2  [{'name': 'issn', 'value': '01963570'}, {'name...   \n",
       "\n",
       "                            isPartOf issueNumber language  ...  \\\n",
       "0  Amerikastudien / American Studies           3    [eng]  ...   \n",
       "1         The Modern Language Review           1    [eng]  ...   \n",
       "2             World Literature Today           1    [eng]  ...   \n",
       "\n",
       "            title                                   url volumeNumber  \\\n",
       "0  Review Article  http://www.jstor.org/stable/41158244           51   \n",
       "1  Review Article   http://www.jstor.org/stable/3722819           65   \n",
       "2  Review Article  http://www.jstor.org/stable/40137021           56   \n",
       "\n",
       "  wordCount numMatches Locations in A  Locations in B abstract keyphrase  \\\n",
       "0      1109          0             []              []      NaN       NaN   \n",
       "1      1342          0             []              []      NaN       NaN   \n",
       "2       493          0             []              []      NaN       NaN   \n",
       "\n",
       "  subTitle  \n",
       "0      NaN  \n",
       "1      NaN  \n",
       "2      NaN  \n",
       "\n",
       "[3 rows x 30 columns]"
      ]
     },
     "execution_count": 14,
     "metadata": {},
     "output_type": "execute_result"
    }
   ],
   "source": [
    "# Let's peek inside our DataFrame\n",
    "df.head(3)"
   ]
  },
  {
   "cell_type": "markdown",
   "metadata": {},
   "source": [
    "# Check quotation matches for particular articles\n"
   ]
  },
  {
   "cell_type": "markdown",
   "metadata": {},
   "source": [
    "## Set the `article_id` ‼️\n",
    "\n",
    "In the cell below, change the variable `article_id` to the id of the article you wish to examine.\n",
    "\n",
    "**Where can I find the article id?**\n",
    "\n",
    "+ This can be found in the `id` column of the [Google Sheet](https://docs.google.com/spreadsheets/d/1I1xEVKGQIf9eGvfLs_l0rCRmSz5GYVmHmRbWzUBWIRc/edit?usp=share_link)\n",
    "\n",
    "*Note: JSTOR outputs the fulltext of articles text as a list of strings, so we have to concatenate them using text-matcher;s `Text()` function.*\n"
   ]
  },
  {
   "cell_type": "code",
   "execution_count": 17,
   "metadata": {},
   "outputs": [
    {
     "name": "stdout",
     "output_type": "stream",
     "text": [
      "\n",
      "Article selected:\n",
      "ID: http://www.jstor.org/stable/25088885\n",
      "Title: Self-Suppression & Attachment: Mid-Victorian Emotional Life\n",
      "\n"
     ]
    }
   ],
   "source": [
    "# ‼️ 🛑 Make sure to change the variable below to the correct article id 🛑  ‼️\n",
    "article_id  = 'http://www.jstor.org/stable/25088885' # CHANGE THIS to article id\n",
    "\n",
    "# Use article_id to get the index of the article in our DataFrame\n",
    "article_index = df[df['id'] == article_id].index[0]\n",
    "article_text = df['fullText'].loc[article_index]\n",
    "article_title = df['title'].loc[article_index]\n",
    "\n",
    "# Assign the full text of this article to a variable called `cleaned_article_text`, with text-matcher's Text function\n",
    "cleaned_article_text = Text(article_text, article_title)\n",
    "\n",
    "# Print out the title and ID of the article we selected as confirmation\n",
    "print(f\"\"\"\n",
    "Article selected:\n",
    "ID: {article_id}\n",
    "Title: {article_title}\n",
    "\"\"\")\n"
   ]
  },
  {
   "cell_type": "markdown",
   "metadata": {},
   "source": [
    "## Find the index positions of a given quotation\n",
    "\n",
    "To establish all of the \"ground truth\" quotations (and their character indexes), we'll want to get the index characters not just for quotations that text-matcher successfully matched, but for *all* quotations in that article.\n",
    "\n",
    "To retrieve the index characters for all quotations in an article legilbe to human eyes, follow the following steps.\n"
   ]
  },
  {
   "cell_type": "markdown",
   "metadata": {},
   "source": [
    "### Step 1: Select the quotation in the ground truth spreadsheet\n",
    "\n",
    "Work through the quotations in your selected article one by one."
   ]
  },
  {
   "cell_type": "markdown",
   "metadata": {},
   "source": [
    "### Step 2:  Locate the text of that quotation as it appears in the JSON file in the \"\"fullText\" field\n",
    "(🛑 Make sure you've entered the `article_id` for the article in the section \"Set the `article_id`\", first!!)  \n",
    "Run the cell below, and then use \"CTRL+F\" in your browser to find the quotation as it appears in the \"Quotation from PDF\" column on the spreadsheet.\n",
    "\n",
    "Look at the text below and see whether the \"Quotation from PDF\" text is actually a quotation from *Middlemarch*. Often it will include too much or too little, sometimes it won't be the quotation at all."
   ]
  },
  {
   "cell_type": "code",
   "execution_count": 28,
   "metadata": {},
   "outputs": [
    {
     "name": "stdout",
     "output_type": "stream",
     "text": [
      "SELF-SUPPRESSION & ATTACHMENT MID-VICTORIAN EMOTIONAL LIFE Judith M. Hughes T tow can an historian hope to recreate the emotional life of the - - past, to discern the major features of an inner landscape that has disappeared from view? More specifically, how can I recall to life the psychic rhythms of the mid-Victorians? Where should I expect to hear the voices of the dead reverberate with sufficient clarity so that I could begin to interpret the sounds? Cultural artifacts, in particular the novel, provide a starting point. I can begin by trying to pinpoint prominent emotional configurations in a number of novels. Such artistic constructions condense inner experiences and render them immediate, thereby promising access to those deeper layers of the mind which have long since been buried. It is, of course, a promise that cannot be entirely fulfilled. Neverthe less, it would be a timid scholar indeed who would hesitate to exploit 541 \n",
      " The Massachusetts Review a rich store of material simply because it offered insights rather than conclusive proof. Insights of what sort? Certain psychological dilemmas are in theory universal, and these are supposed to be the stuff of great literature. What is of interest, then, are the particular strategies adopted for coping with such dilemmas, the abortive or successful attempts to ward off despair and to buttress self-esteem. And in reflecting on fictional characters, I have, above all, been struck by the recurrent variations on themes regarded as universal. The mention of fictional characters is an indication of how I intend to approach the novels. Among literary critics with a psychoanalytic turn of mind, it is no longer fashionable to concentrate on the characters themselves. Rather, the emphasis has fallen on either the author or the reader. What the literary work can tell one about the mind of its crea tor or how it evokes emotional responses from the audience?these have become the major concerns.1 Clearly either focus would be inappro priate for me to adopt: I am not engaged in a study of novelists; as for the audience, I have access to the inner experiences of only one of its members, my own, and they are not relevant. Despite this disclaimer of interest in writers and readers, it is nonetheless incumbent upon me to choose works which may be considered representative, works which combined contemporary appeal with enduring artistic merit. As Freud early recognized, the authors of such works are usually good psychol ogists. Yet one must remember that fictional characters are not real people. One cannot produce case histories from novels; one can, how ever, delineate the emotional drama of the individual protagonists. If space and human frailty demand a radical selection, if three novels constitute a manageable sample, the identity of two of the authors can not long be in doubt?George Eliot and Anthony Trollope. No one can dispute their stature or their contemporary popularity, and as por traitists of mid-Victorian Britain they are the novelists most frequently cited. My third choice, Samuel Butler, may seem more eccentric. Yet the very fact of his critical stance compelled his inclusion, to provide a foil or a check against a too ready sympathy with the Victorian sensi bility. As a point of entry, one may start with the question of self-suppres sion. How does the belief that selflessness signifies personal strength?a striking feature of mid-Victorian interpersonal relations?correspond 1 See, for example, Norman Holland, The Dynamics of Literary Response (New York, Oxford University Press, 1968). 542 \n",
      " Biography & Criticism with the emotional universe of fiction? Did those who exercised such restraint find emotional compensation? It is apparent that for the Vic torians compliance with an ethical precept which succeeding generations would regard as merely repressive did not necessarily cause psychic devastation. For them, an undemanding ego, whether radiating sym pathy or encased in diffidence, deserved to be met by mutual accom modation and to receive steady encouragement. What, one may now ask, in turning to the novels, was the emotional configuration that gave self-suppression its meaning? The central feature of Middlemarch, which George Eliot fin ished in 1872, is highlighted in the narrator's observation: \"We are all of us born in moral stupidity, taking the world as an udder to feed our supreme selves.\" Realizing that one is not supreme, that others have \"an equivalent centre of self\" constitutes the major experi ence of the novel's chief characters;2 but, as Mary Garth comments, \"the difficult task of knowing another soul is not for young gentlemen whose consciousness is chiefly made up of their own wishes\" (Chapter 12). Learning, then, must go hand in hand with the willing suppres sion of one's own egotistic desires. No scene so sharply and so eco nomically epitomizes this process as Mrs. Bulstrode's acceptance and sharing of her disgraced husband's fate: But this imperfectly-taught woman, whose phrases and habits were an odd patchwork, had a loyal spirit within her. The man whose prosperity she had shared through nearly half a life, and who had unvaryingly cherished her ?now that punishment had befallen him it was not possible to her in any sense to forsake him. There is forsaking which still sits at the same board and lies on the same couch with the forsaken soul, withering it the more by un loving proximity. She knew, when she locked her door, that she should unlock it ready to go down to her unhappy husband and espouse his sorrow, and say of his guilt, I will mourn and not reproach. But she needed time to gather up her strength; she needed to sob out her farewell to all the gladness and pride of her life. When she had resolved to go down, she prepared her self by some little acts which might seem mere folly to a hard onlooker; 2 Chapter 21. On George Eliot's moral vision see, for example, U. C. Knoepflmacher, Religious Humanism and the Victorian Novel: George Eliot, Walter Pater, and Samuel Butler (Princeton, N.J., Princeton University Press, 1965), pp. 24?115, and Bernard J. Paris, Exferiments in Life: George Eliot's Quest for Values (Detroit, Wayne State University Press, 1965). 543 \n",
      " The Massachusetts Review they were her way of expressing to all spectators visible or invisible that she had begun a new life in which she embraced humiliation. She took off all her ornaments and put on a plain black gown, and instead of wearing her much-adorned cap and large bows of hair, she brushed her hair down and put on a plain bonnet-cap, which made her look suddenly like an early Methodist. (Chapter 74) Throughout Middlemarch self-suppression serves to cement attach ments in the finely wrought context of everyday life. And the intricate design of the work, referred to repeatedly in the novel itself as a web, allows delicate shades of meaning to emerge from juxtaposition and comparison. The impact of the novel's structure is reenforced by the subtlety of the omniscient narrative voice: while the play of irony creates perspective, distance is foreshortened when the angle of vision shifts to a character's own inner consciousness. This double complexity suggests that Middlemarch cannot be read simply as a long and elevating ser mon. In the commanding figure of Dorothea, morality is never divorced from imagination; though forced to relinquish illusions, she is never obliged to abandon her dreams.3 Dorothea's quest is foreshadowed in the description of Saint Theresa of Avila, which appears in the Prelude. The Saint \"soared after some illimitable satisfaction, some object which would never justify weariness, which would reconcile self-despair with the rapturous consciousness of life beyond self.\" Dorothea's own nature, \"altogether ardent, theoretic, and intellectually consequent\" (Chapter 3), yearning \"after some lofty conception of the world\" (Chapter 1), resembles the passionate disposi tion of the Spanish saint. And though Dorothea's short-sightedness, which impairs her perception of those in her immediate vicinity, is sub ject to ironic comment, her idealism largely escapes such treatment. This sympathetic view does not make Dorothea's aspirations less opaque. Yet one suspects that the difficulty is not due to a lack of narrative dis tance; rather the very diffuseness is central to her emotional dilemma. The desolation of a world of separate souls, the frightening \"fragmen tariness\" of life (Chapter 20), is the nightmare from which she seeks to escape. This flight is both the counterpart of her idealism and what for so long prevents it from acquiring coherent form. In marrying Casaubon, whom the orphaned Dorothea likened to Milton, Hooker, and above all Locke, she thought she had found a 3 For a critique of George Eliot's handling of Dorothea, see F. R. Leavis, The Great Tradition (London, Chatto and Windus, 1948), pp. 72-79. 544 \n",
      " Biography & Criticism \"man who could understand the higher inward life, and with whom there could be some spiritual communion\" (Chapter 2). For her \"the really delightful marriage must be where your husband was a sort of father, and could teach you even Hebrew, if you wished it\" (Chapter 1). Such a union \"would deliver her from her girlish subjection to her own ignorance, and give her the freedom of voluntary submission to a guide who would take her along the grandest path\" (Chapter 3). But Dorothea had \"not reached that point of renunciation at which she would have been satisfied with having a wise husband; she wished, poor child, to be wise herself\" (Chapter 7). Disillusionment came almost immediately: Casaubon's learning offered her no beacon light; she could see no \"wide opening where she followed him.\" Still she might have felt these intellectual disappointments less keenly if some other bond of intimacy had developed between them. \"With all her yearning to know what was afar from her and to be widely benignant, she had ardour enough for what was near, to have kissed Mr. Casaubon's coat-sleeve, or to have caressed his shoe-latchet, if he would have made any other sign of acceptance than pronouncing her, with his unfailing propriety, to be of a most affectionate and truly feminine nature, indicating at the same time by politely reaching a chair for her that he regarded these manifestations as rather crude and startling\" (Chapter 21). If Dorothea felt chilled by Casaubon's unresponsiveness, he too suf fered in the \"narrow cell\" of his own being. One of George Eliot's greatest achievements is her presentation of Casaubon from the inside. Though earlier commentary has prepared the reader for an interior view of the pedantic and aging husband, still when the author asks at the beginning of Chapter Twenty-Nine, \"but why always Dorothea?\" and then proceeds to depict Casaubon's \"intense consciousness,\" the effect is arresting. The dessicated scholar can never be \"liberated from a small hungry shivering self.\" \"His experience was of that pitiable kind which shrinks from pity, and fears most of all that it should be known: it was that proud narrow sensitiveness which has not mass enough to spare for transformation into sympathy, and quivers thread-like in small currents of self-preoccupation or at best of an egoistic scrupulosity.\" Slowly Dorothea comes to appreciate not only her husband's weak nesses, but the inner suffering which they produce. Though herself wounded, she strives to master her hurt, to exercise the self-suppression that will permit her to share Casaubon's sorrow. When Casaubon, in formed by his physician of the seriousness of his heart condition, rejects Dorothea's sympathy, her internal conflict reaches its dramatic climax. 545 \n",
      " The Massachusetts Review Reacting with \"a rebellious anger stronger than any she had felt since her marriage,\" she meditates through the evening and into the night, and finally \"the resolved submission\" comes. In the ensuing exchange with her husband they more nearly approach communion than at any other time, and Dorothea feels \"something like the thankfulness that might well up in us if we had narrowly escaped hurting a lamed crea ture\" (Chapter 42). The intensity of Dorothea's struggle in her relation to Casaubon con vinces the reader both of her own earnestness and more generally, of the enduring quality of her vision. Though the object seems undeserv ing (and still more so when a codicil appended to his will reveals his deep suspicion of and isolation from his wife), the dream has lost none of its power. Yet it has been qualified by the recognition that self-sup pression without trust is insufficient. Indeed lack of trust appears as second only to egotism as a barrier to emotional attachments. And in the second half of the novel Dorothea's stature is depicted increasingly in terms of her ability to bestow trust where others doubt, to nourish by her compassion those most in need. Though critics may be dissatisfied with George Eliot's lack of dis tance from Dorothea's emotional richness, the contours of that pleni tude are clear: her capacity to transcend the boundaries of self and to offer reassurance \"without any check of proud reserve\" makes it possi ble for her to connect with other human beings and to create coherence out of \"fragmentariness\" (Chapter 76). The image which comes to mind is that of a mother's tender and purposeful solicitude, and ma ternal imagery is pervasive in the scene of Dorothea's last crisis. One would hesitate before suggesting that she has simply been transformed into a mothering figure; yet the change is striking from the daughter she initially sought to be. It is rather that the maternal image conveys the merging of fantasy and morality, the fusion of emotion and \"be neficent activity\" (Finale), and the fulfillment of someone who could not live without a \"loving reverent resolve\" (Chapter 20). A fter the spiritual quest of Middlemarch, Trollope's work The * *- Duke's Children, published in 1880, seems sober and sedate. Though the two main plots concern love relationships leading to mar riage, idealized in typical Trollopian fashion, it is the Duke of Omnium, never one to be driven by passionate fancy, who is the chief protagonist. In earlier novels in the Palliser series, of which this is the last, the Duke's fantasy life was largely occupied with dreams of introducing a 546 \n",
      " Biography & Criticism system of decimal coinage. Though no subterranean change has taken place in his psyche, when he appears in The Duke's Children with his soul bared and his inner struggles revealed, he achieves a stature com parable to that of Dorothea. And in his efforts to forge new links with his grown children, one hears echoed the longings of George Eliot's spiritual protagonist.4 The poor Duke must begin his search in straitened emotional cir cumstances, trapped by his mute and haughty sensitivity in what George Eliot would have called a narrow cell of self. But how could it be otherwise, he wonders. \"The very pride of which he was accused was no more than that shrinking which comes from want of trust in one self. He was a shy man. All his friends and all his enemies knew that ... a shy, self-conscious, timid, shrinking, thin-skinned man!\" (Chapter 22). Still worse, the one person with whom he felt comfortable, his wife, Lady Glencora, was dead. The utter prostration of the bereft husband could not have been more com plete. It was not only that his heart was torn to pieces, but that he did not know how to look out into the world. It was as though a man should be suddenly called to live without hands or even arms. He was helpless, and knew himself to be helpless. Hitherto he had never specially acknowledged to himself that his wife was necessary to him as a component part of his life. Though he had loved her dearly, and had in all things consulted her welfare and happiness, he had at times been inclined to think that in the exuberance of her spirits she had been a trouble rather than a support to him. But now it was as though all outside appliances were taken away from him. There was no one of whom he could ask a question. (Chapter 1) The Duke must struggle as best he can with the task of becoming a father to his grown children, about whom he has \"never taken any trouble to inform himself\" (Chapter 24). In confronting their marital hopes, his attachment to his daughter Lady Mary and to his eldest son Lord Silverbridge acquires substance. Though both children bring him pain and sorrow in choosing what he considers unsuitable mates, they 4 The most helpful critical comment on The Duke's Children is John H. Hagan, \"The Duke's Children: Trollope's Psychological Masterpiece,\" Nine teenth-Century Fiction, XIII (1958-1959), 1-21. See also Ruth apRoberts, The Moral Trollofe (Athens, Ohio, Ohio University Press, 1971), pp. 147-149, and Arthur Mizener, \"Anthony Trollope: The Palliser Novels,\" in Robert C. Rathburn and Martin Steinmann, Jr., eds., From Jane Austen to Josefh Conrad: Essays Collected in Memory of James T. Hillhouse (Minneapolis, Minn., University of Minnesota Press, 1958), pp. 118?132. 547 \n",
      " The Massachusetts Review are so precious to him that he finally must give way. Such an ending is standard fare. What is remarkable is the way it is achieved: respond ing to a combination of frontal assaults and enveloping movements, the Duke abandons his lonely standing ground and discovers a world of mutual affection or forebearance. In the story of Lord Silverbridge and the Duke, Trollope gives both a tender and a comic account of a father-son relationship. The imma ture young man, whose very diction suggests his want of seriousness and polish, repeatedly disappoints his father yet at the same time reaches out to soothe the older man. In so doing he demonstrates a protective concern that itself has a paternal quality. When Silverbridge, following the impulse of his unreserved nature, invites his father to dine with him at his club, the Duke reveals an emotion which is the psychological counterpart to his son's solicitude?a desire to see Silverbridge not only married but effectively the head of the house. Affection for his son is always associated in the Duke's mind with an eagerness to relinquish his own position. \"I should be glad to see you marry early,\" said the Duke, speaking in a low voice, almost solemnly, but in his quietest, sweetest tone of voice. \"You are peculiarly situated. Though as yet you are only the heir to the property and honors of our family, still, were you married, almost everything would be at your disposal. There is so much which I should only be too ready to give up to you!\" \"I can't bear to hear you talk of giving up anything,\" said Silverbridge energetically. Then the father looked round the room furtively, and seeing that the door was shut, and that they were assuredly alone, he put out his hand and gently stroked the young man's hair. It was almost a caress,?as though he would have said to himself, \"Were he my daughter, I would kiss him.\" (Chapter 26) Through the prospect of his son's marriage, the Duke hopes to find again a family life that will nurture him. After he sets aside his caste objections and accepts a young American as Silverbridge's bride, he gives her the ring which had been his first present to Lady Glencora, asking her to become his child so that he may have someone to love him. \"You shall be my child. And if you will love me you shall be very dear to me. You shall be my own child,?as dear as my own. I must either love his wife very dearly, or else I must be an unhappy man. And she must love me dearly, or I must be unhappy.\" (Chapter 72) 548 \n",
      " Biography & Criticism Though the Duke laments being driven to yield to Silverbridge's marital choice, his inner struggle is less intense and the reconciliation more comforting than in the case of Lady Mary and her penniless suitor. From the start, the Duke's view of his daughter's romance is distorted by his memory of his wife and Burgo Fitzgerald. Lady Glencora had been forced to marry Plantagenet Palliser, the future Duke of Omnium, against her will; she was still in love with the handsome and dissolute Burgo and shortly after her marriage almost ran away with him. The fact that before her death Lady Glencora tacitly supported Mary's choice makes the Duke's recollections both more bitter and more appro priate. On top of this first haunting triangle, the Duke attempts to superimpose another. Hoping to detach Mary from her beloved, as her mother had been, he urges an insipid young lord to court her. Though the Duke does not relish the business at hand, he feels compelled to find someone to replicate his own earlier role. By thus insinuating himself into the competitive struggle for his daughter, he all but forfeits her trust and affection. Though the Duke may be obdurate, he cannot bring himself to think ill of Mary. In a moving scene, in which his daughter shakes his resis tance by flinging herself on his breast, he reflects on his feelings for her. This girl,?whether she should live and fade by his side, or whether she should give her hand to some fitting noble suitor,?or even though she might at last become the wife of this man who loved her, would always have been pure. It was sweet to him to have something to caress. Now in the solitude of his life, as years were coming on him, he felt how necessary it was that he should have someone who would love him. Since his wife had left him he had been debarred from these caresses by the necessity of showing his antag onism to her dearest wishes . . . but yet there had crept over him the feel ing that as he was half conquered, why should he not seek some recompense in his daughter's love? (Chapter 66) To save his image of Mary he must give way. He must admit that Mary's suitor is not Burgo Fitzgerald reincarnate; the young man may lack funds but he does not lack character. Once the Duke makes this distinction, the link with the past is broken; he can forget his anger at Lady Glencora?an anger that he had acknowledged only with great pain. Having yielded to both his children, he can now reclaim his daugh ter's love and look forward to a fond welcome in his son's home. 549 \n",
      " The Massachusetts Review T) efore proceeding, it may be helpful to underline the themes com -*-* mon to both novels. One need not pause over the exhortation to self-suppression; it is fully evident. Its defensive quality?a retreat in the face of disappointment which short-circuits rage and hostility?is a major motif. But withdrawal does not exhaust the strategies which self suppression provides. There is also a positive way of dealing with emo tional dangers. Dorothea, striken with fear that she has been robbed of the man she loves and will eventually marry, curbs her resentment and acts as comforter to her presumed rival. The Duke's struggle?in this case to conquer his anger against those who have aroused his jealous feelings?is more protracted; by maintaining his faith in Mary and fostering her wishes, he eventually recovers the cherished memory of his dead wife. In brief, a nurturing disposition, toward rival or loved one, ensures that the path to communion will never be permanently blocked. This nurturing attitude, which enables trust to triumph over jealousy, suggests an almost exclusive identification with a satisfying mother figure. And this appears true regardless of the person's sex: qualities usually associated with women are not, in these novels, exclusively theirs. Examples are plentiful of men offering solace and emotional nourish ment. At the same time as such a self-image enshrines the earliest attachment, it mutes the difference between generations; it is as if the bond between parent and child formed a continuum permitting move ment in either direction. Caring for and being cared for?attitudes at once progressive and regressive?provide a mighty shield against despair. IN apparent contrast to Dorothea and the Duke of Omnium, the task Ernest Pontifex confronts in Samuel Butler's Bildungsroman, The Way of All Flesh, is to discover his true self and to arrange his life accordingly. That inner self, had it been given voice, would have conveyed a strikingly unconventional message to the beleaguered boy: \"You are surrounded on every side by lies which would deceive even the elect . . . the self of which you are conscious, your reasoning and reflecting self, will believe these lies and bid you act in accordance with them. This conscious self of yours, Ernest, is a prig begotten of prigs and trained in priggishness. . . . Obey me, your true self and things will go tolerably well with you, but only listen to that outward old husk of yours which is called your father, and I will rend you in pieces even unto the third and fourth generation as one who has hated God; for I, Ernest, am the God who made you.\" (Chapter 31) 550 \n",
      " Biography & Criticism Surely to renounce one's father, to break from one's family, and to assign oneself the responsibility, as a writer, for stirring up the \"hornet's nest\" of \"marriage and the family system\" (Chapter 84), all of which Ernest attempts, would seem to set him at odds with his contemporaries. So shocking did Butler consider some of the portraits in the novel?par ticularly those drawn from his own parents?that he did not publish the book in his lifetime. Though he had begun writing it in 1873, finally putting it aside in 1884, it did not appear until a year after his death in 1903.5 Yet at the end of the novel, Ernest is not simply a defiant rebel. His is a curious war against society's orthodoxies. The final result of Ernest's literary efforts, the reader is informed, are \"conservative, quietistic, comforting. The arguments by which they were reached were taken from the most advanced writers of the day. All that these people con tended for was granted them, but the fruits of victory were for the most part handed over to those already in possession\" (Chapter 85). Earlier Butler's narrator had commented, \"Every man's work, whether it be literature or music or pictures or architecture or anything else, is always a portrait of himself, and the more he tries to conceal himself the more clearly will his character appear in spite of him\" (Chapter 14). Thus the conclusion of Ernest's intellectual battle suggests his own acceptance of a nurturing role. In a novel which is ostensibly an attack on the Vic torian family, the protagonist achieves a species of serenity by sifting out the charitable impulse from self-serving cant. Ernest's is not the only portrait glimpsed through literary production; that of Edward Overton is also unveiled as he narrates Ernest's growth and indicates his own involvement with the boy. In the course of com posing Ernest's biography within the novel, Overton sets forth his per sonal attitudes on the interlocking questions of marriage and family, indulgence and morality?attitudes representing the polar opposite of those taught to Ernest as a child?and which the younger man finally comes close to accepting. Overton and Ernest's views, however, are never identical. As a writer of burlesques?his principal literary occu pation?Overton has a capacity for light-hearted heterodoxy that Ernest can never equal. It is Overton who, with marvelous satire, recreates 5 On The Way of All Flesh as a dramatization of Butler's evolutionary theories, see U. C. Knoepflmacher, Religious Humanism and the Victorian Novel, pp. 257-295. See also William H. Marshall, The World of the Vic torian Novel (South Brunswick and New York, A. S. Barnes and Company, 1966), pp. 424-449. 551 \n",
      " The Massachusetts Review the drama of Ernest's parents, Theobald and Christina, on their wed ding day. Similarly he turns inside out the usual notions of family ar rangements, when he mockingly asks: Why should the generations overlap one another at all? Why cannot we be buried as eggs in neat little cells with ten or twenty thousand pounds each wrapped around us in Bank of England notes, and wake up, as the sphex wasp does, to find that its papa and mamma have not only left ample pro vision at its elbow, but have been eaten by sparrows some weeks before it began to live consciously on its own account? (Chapter 18). Clearly Butler used Overton to embody his own opinions, just as he made Ernest relive the painful experience of his childhood. But in his autobiographical novel Butler split not only himself. By creating Over ton he also split his own father?or rather Ernest's?thus providing the boy with a surrogate parent. In the absence of Overton and his Aunt Alethea, who together serve as godparents, Butler would have left Ernest with scant emotional nourishment or moral support. Ernest's childhood was bleak indeed. Theobald, his father, never liked children and seemed to take almost sadistic delight in carrying out his presumed paternal responsibility of frightening the boy into submission. Against such treatment his mother offered no resistance: Christina did not remonstrate with Theobald concerning the severity of the tasks imposed upon their boy, nor yet as to the continual whippings that were found necessary at lesson times. Indeed, when during any absence of Theo bald's the lessons were entrusted to her, she found to her sorrow that it was the only thing to do, and she did it no less effectually than Theobald him self; nevertheless she was fond of the boy, which Theobald never was, and it was long before she could destroy all affection for herself in the mind of her first-born. But she persevered. (Chapter 20) Saddled with such horrendous parents, Ernest formulated a personal version of the facts of life that would break the biological pattern of family organization. In his fantasy of parthenogenesis, which at the age of seven he revealed to Overton, he abolished the paternal sexual role and imagined himself capable of giving birth to male children outside of wedlock. His Aunt Alethea, who appeared in the adolescent's life as a guardian angel, shared this fantasy. Unmarried, and hostile to matri mony, yet endowed with \"a woman's love of children\" (Chapter 33), she determined to be to Ernest \"in place of parents, and to find in him a son rather than a nephew\" (Chapter 34). Before her plan could be 552 \n",
      " Biography & Criticism carried out, however, she died, bequeathing Ernest her substantial for tune. The neatly packaged banknotes would be his when he turned twenty-eight, by which time, she had calculated, he would have out grown his \"foolishness\" and would be ready, in Overton's words, \"to live consciously\" on his \"own account.\" In Alethea, then, one finds incarnated the alternative method of childrearing?both sexual and financial?that Ernest and Overton have been seeking. With Alethea's death Overton becomes Ernest's protector. But for a long time he remains at a distance, defining his function as that of financial watchdog, investing his godson's inheritance wisely and letting the capital accumulate. His personal attachment to the young man ebbs and flows: it runs strong when Ernest breaks with his parents, and it almost peters out while Ernest is married. With the dissolution of Ernest's marriage, Overton definitively enters the young man's life, nurses him back to health, encourages him to write, and finally estab lishes him as a wealthy man. For Overton, a bachelor, Ernest has be come \"a son and more than a son;\" and at times the older man is \"half afraid\" that he \"may have been . . . more like a father\" than he \"ought\" (Chapter 86). An odd sort of father, helping Ernest to undo his past, to enjoy as a grown man what was his birthright?a life of moderate self-indulgence and unfettered intellectual expression. Having regained his birthright, Ernest is determined to preserve it and to safeguard his children's equal rights. For his children, this means settling them happily with a bargeman's family and intervening in their lives only when his financial resources are necessary to make their wishes come true. For himself, it requires becoming something of a recluse: \"I am an Ishmael by instinct as much as by accident of circumstances, but if I keep out of society I shall be less vulnerable than Ishmaels generally are. The moment a man goes into society, he becomes vulnerable all round.\" (Chapter 84) But reclaiming one's birthright does not warrant dogmatic assertion of one's own righteousness: for \" cno man's opinions,' \" Ernest concludes, \" 'can be worth holding unless he knows how to deny them easily and gracefully upon occasion in the cause of charity' \" (Chapter 86). Most notably, toward his dying mother, Ernest demonstrates his gift for charitable empathy, for pardoning past injuries: \"Mother,\" he said, \"forgive me?the fault is mine, I ought not to have been so hard; I was wrong, very wrong\"; the poor blubbering fellow meant 553 \n",
      " The Massachusetts Review what he said, and his heart yearned to his mother as he had never thought that it could yearn again. (Chapter 82) Whereas his father, Theobald, entrenches himself \"in a firm but dig nified manner behind the Lord's prayer,\" offering scant comfort to the poor woman, Ernest, \"sitting beside her,\" allows her to \"pour out her grief to him without let or hindrance.\" With a fine ear for his mother's simple emotional rhythm, he strikes the chords that might give her solace (Chapter 83): \"My dear mother, . . . you are ill and your mind is unstrung; others can now judge better about you than you can; I assure you that to me you seem to have been the most devotedly unselfish wife and mother that ever lived. ... I believe that you will not only be a saint, but a very distinguished one.\" With his money furnishing a protective cocoon, obviating the stresses usually associated with the adult world, Ernest is able not only to give leeway to that inner self whose voice he could not hear in his father's house; he can also comfort others. Here one discerns the same progres sive and regressive emotional configuration apparent in Middlemarch and The Duke's Children: a nurturing attitude which has dependency as its counterpart. In comparison with the other two novels, The Way of All Flesh mutes this nurture and dependence; but they must of necessity be muted to fulfill the fantasies of childbirth and childrearing that infuse the work. With the need for sexual differentiation blurred by these very fantasies, one mode predominates: the feminine alone re mains highly prized. So too has IT BEEN in Middlemarch and The Duke's Children. Yet to stress?as is commonplace?the idealization of women in Vic torian fiction, to emphasize the extravagant hopes of redemption through the love of these perfect creatures, is merely a first step. One should underline, rather, the fact that both sexes gravitate in a single direction which gives point and meaning to the Victorian emotional universe. One suspects that the magnetic quality of a nurturing ideal is not unconnected with the most striking instance of Victorian self-suppres sion: male sexual restraint. While sexuality among nineteenth-century upper-class women was checked both in Britain and on the continent, it was in Britain alone that similar prohibitions applied to men as well. The significance of this unparalled attempt to create a single standard of sexual behavior cannot be overestimated. At the very least, it placed 554 \n",
      " Biography & Criticism the sexes on a more equal footing. In so doing, I should suggest, it opened the way for mutual trust and dependency?for a truce in the perennial battle of the sexes. Men may have paid a price in the form of nervous complaints?a price traditionally exacted from women?but the compensation was clear. A society that could provide a mother a secure standing ground offered emotional safety for all.\n"
     ]
    }
   ],
   "source": [
    "print(cleaned_article_text.text)"
   ]
  },
  {
   "cell_type": "markdown",
   "metadata": {},
   "source": [
    "### Step 3: Copy the actual quoted text from *Middlemarch* as it appears exactly in the article text above"
   ]
  },
  {
   "cell_type": "markdown",
   "metadata": {},
   "source": [
    "### Step 4: Paste the text of the quotation in the `quotation` field below\n",
    "Make sure that you enclose the quotation in quotation marks.\n",
    "\n",
    "If there are are quotation marks in the text of the quote, either place an escape character `\\` in front of them, or change the quotation marks that you use. (Eg, if there are single quotes (`'`) in the text, use double quotes (`\"`) to surround the text.\n",
    "\n",
    "Run the cell below."
   ]
  },
  {
   "cell_type": "code",
   "execution_count": 27,
   "metadata": {},
   "outputs": [
    {
     "name": "stdout",
     "output_type": "stream",
     "text": [
      "Article id: http://www.jstor.org/stable/25088885\n",
      "Starting index: 4329\n",
      "Ending index: 4426\n",
      "Quotation text and indexes to paste into spreadsheet:\n",
      "We are all of us born in moral stupidity, taking the world as an udder to feed our supreme selves\t[4329, 4426]\n",
      "\n",
      "\n",
      "Sanity check (does this match the text above?):\n"
     ]
    },
    {
     "data": {
      "text/plain": [
       "'We are all of us born in moral stupidity, taking the world as an udder to feed our supreme selves'"
      ]
     },
     "execution_count": 27,
     "metadata": {},
     "output_type": "execute_result"
    }
   ],
   "source": [
    "# PASTE the quotation below in the field, replacing the text below ‼️\n",
    "# Make sure to include quotation marks around the string\n",
    "quotation = \"We are all of us born in moral stupidity, taking the world as an udder to feed our supreme selves\" #pas\n",
    "\n",
    "index = cleaned_article_text.text.rindex(quotation)\n",
    "print(f\"Article id: {article_id}\")\n",
    "print('Starting index:', index) \n",
    "print('Ending index:', index + len(quotation))\n",
    "print(f'Quotation text and indexes to paste into spreadsheet:\\n{quotation}\\t[{index}, {index + len(quotation)}]')\n",
    "print(\"\\n\\nSanity check (does this match the text above?):\")\n",
    "cleaned_article_text.text[index:index + len(quotation)]\n",
    "\n"
   ]
  },
  {
   "cell_type": "markdown",
   "metadata": {},
   "source": [
    "### Step 5: Record the character indexes and article id in spreadsheet\n",
    "Add the character indexes and article ID as a new row in a spreadsheet"
   ]
  }
 ],
 "metadata": {
  "kernelspec": {
   "display_name": "Python 3",
   "language": "python",
   "name": "python3"
  },
  "language_info": {
   "codemirror_mode": {
    "name": "ipython",
    "version": 3
   },
   "file_extension": ".py",
   "mimetype": "text/x-python",
   "name": "python",
   "nbconvert_exporter": "python",
   "pygments_lexer": "ipython3",
   "version": "3.8.5"
  }
 },
 "nbformat": 4,
 "nbformat_minor": 1
}
