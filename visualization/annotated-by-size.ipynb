{
 "cells": [
  {
   "cell_type": "markdown",
   "metadata": {},
   "source": [
    "# Experiment 0 Annotator\n",
    "\n",
    "This annotates the text with the number of times that passage has been quoted. "
   ]
  },
  {
   "cell_type": "code",
   "execution_count": 55,
   "metadata": {
    "collapsed": true
   },
   "outputs": [
    {
     "name": "stdout",
     "output_type": "stream",
     "text": [
      "3.10.2 (v3.10.2:a58ebcc701, Jan 13 2022, 14:50:16) [Clang 13.0.0 (clang-1300.0.29.30)]\n"
     ]
    }
   ],
   "source": [
    "import sys\n",
    "print(sys.version)\n",
    "import pandas as pd\n",
    "import nltk\n",
    "%matplotlib inline\n",
    "import math\n",
    "from ast import literal_eval\n",
    "import numpy as np\n",
    "import re\n",
    "from matplotlib import pyplot as plt\n",
    "from colour import Color\n",
    "from IPython.core.display import HTML\n",
    "from matplotlib import cm\n",
    "from matplotlib.colors import rgb2hex\n",
    "plt.rcParams[\"figure.figsize\"] = [16, 6]"
   ]
  },
  {
   "cell_type": "code",
   "execution_count": 56,
   "metadata": {
    "collapsed": false
   },
   "outputs": [
    {
     "data": {
      "text/html": [
       "<div>\n",
       "<style scoped>\n",
       "    .dataframe tbody tr th:only-of-type {\n",
       "        vertical-align: middle;\n",
       "    }\n",
       "\n",
       "    .dataframe tbody tr th {\n",
       "        vertical-align: top;\n",
       "    }\n",
       "\n",
       "    .dataframe thead th {\n",
       "        text-align: right;\n",
       "    }\n",
       "</style>\n",
       "<table border=\"1\" class=\"dataframe\">\n",
       "  <thead>\n",
       "    <tr style=\"text-align: right;\">\n",
       "      <th></th>\n",
       "      <th>abstract</th>\n",
       "      <th>creator</th>\n",
       "      <th>datePublished</th>\n",
       "      <th>docSubType</th>\n",
       "      <th>docType</th>\n",
       "      <th>fullText</th>\n",
       "      <th>id</th>\n",
       "      <th>identifier</th>\n",
       "      <th>isPartOf</th>\n",
       "      <th>issueNumber</th>\n",
       "      <th>...</th>\n",
       "      <th>tdmCategory</th>\n",
       "      <th>title</th>\n",
       "      <th>url</th>\n",
       "      <th>volumeNumber</th>\n",
       "      <th>wordCount</th>\n",
       "      <th>numMatches</th>\n",
       "      <th>Locations in A</th>\n",
       "      <th>Locations in B</th>\n",
       "      <th>subTitle</th>\n",
       "      <th>Decade</th>\n",
       "    </tr>\n",
       "  </thead>\n",
       "  <tbody>\n",
       "    <tr>\n",
       "      <th>10</th>\n",
       "      <td>This article investigates the practices of iti...</td>\n",
       "      <td>[Alexander Rocklin]</td>\n",
       "      <td>2015-09-01</td>\n",
       "      <td>research-article</td>\n",
       "      <td>article</td>\n",
       "      <td>[Obeah and the Politics of Religion's Making a...</td>\n",
       "      <td>http://www.jstor.org/stable/24488181</td>\n",
       "      <td>[{'name': 'issn', 'value': '00027189'}, {'name...</td>\n",
       "      <td>Journal of the American Academy of Religion</td>\n",
       "      <td>3</td>\n",
       "      <td>...</td>\n",
       "      <td>[Religion - Theology]</td>\n",
       "      <td>Obeah and the Politics of Religion's Making an...</td>\n",
       "      <td>http://www.jstor.org/stable/24488181</td>\n",
       "      <td>83</td>\n",
       "      <td>11337</td>\n",
       "      <td>0</td>\n",
       "      <td>[]</td>\n",
       "      <td>[]</td>\n",
       "      <td>NaN</td>\n",
       "      <td>2010</td>\n",
       "    </tr>\n",
       "    <tr>\n",
       "      <th>12</th>\n",
       "      <td>NaN</td>\n",
       "      <td>[CHUNG-KANG KIM]</td>\n",
       "      <td>2015-09-01</td>\n",
       "      <td>research-article</td>\n",
       "      <td>article</td>\n",
       "      <td>[Nation, Subculture, and Queer Representation:...</td>\n",
       "      <td>http://www.jstor.org/stable/24616518</td>\n",
       "      <td>[{'name': 'issn', 'value': '10434070'}, {'name...</td>\n",
       "      <td>Journal of the History of Sexuality</td>\n",
       "      <td>3</td>\n",
       "      <td>...</td>\n",
       "      <td>[Arts - Performing arts, Philosophy - Applied ...</td>\n",
       "      <td>Nation, Subculture, and Queer Representation: ...</td>\n",
       "      <td>http://www.jstor.org/stable/24616518</td>\n",
       "      <td>24</td>\n",
       "      <td>10736</td>\n",
       "      <td>0</td>\n",
       "      <td>[]</td>\n",
       "      <td>[]</td>\n",
       "      <td>NaN</td>\n",
       "      <td>2010</td>\n",
       "    </tr>\n",
       "    <tr>\n",
       "      <th>13</th>\n",
       "      <td>NaN</td>\n",
       "      <td>[Matthew J. Lavin]</td>\n",
       "      <td>2011-01-01</td>\n",
       "      <td>research-article</td>\n",
       "      <td>article</td>\n",
       "      <td>[\"The Door of Opportunity\" by Southwestern Eng...</td>\n",
       "      <td>http://www.jstor.org/stable/43025266</td>\n",
       "      <td>[{'name': 'issn', 'value': '00433462'}, {'name...</td>\n",
       "      <td>Western American Literature</td>\n",
       "      <td>4</td>\n",
       "      <td>...</td>\n",
       "      <td>[Arts - Literature, Philosophy - Applied philo...</td>\n",
       "      <td>Clean Hands and an Iron Face: Frontier Masculi...</td>\n",
       "      <td>http://www.jstor.org/stable/43025266</td>\n",
       "      <td>45</td>\n",
       "      <td>8406</td>\n",
       "      <td>0</td>\n",
       "      <td>[]</td>\n",
       "      <td>[]</td>\n",
       "      <td>NaN</td>\n",
       "      <td>2010</td>\n",
       "    </tr>\n",
       "    <tr>\n",
       "      <th>14</th>\n",
       "      <td>A disquieting window panel shows the crucified...</td>\n",
       "      <td>[Corine Schleif]</td>\n",
       "      <td>2014-01-01</td>\n",
       "      <td>research-article</td>\n",
       "      <td>article</td>\n",
       "      <td>[The Crucifixion with Virtues in Stained Glass...</td>\n",
       "      <td>http://www.jstor.org/stable/24191440</td>\n",
       "      <td>[{'name': 'issn', 'value': '00754250'}, {'name...</td>\n",
       "      <td>Journal of Glass Studies</td>\n",
       "      <td>NaN</td>\n",
       "      <td>...</td>\n",
       "      <td>[Arts - Art history, Arts - Performing arts]</td>\n",
       "      <td>The Crucifixion with Virtues in Stained Glass:...</td>\n",
       "      <td>http://www.jstor.org/stable/24191440</td>\n",
       "      <td>56</td>\n",
       "      <td>12566</td>\n",
       "      <td>0</td>\n",
       "      <td>[]</td>\n",
       "      <td>[]</td>\n",
       "      <td>NaN</td>\n",
       "      <td>2010</td>\n",
       "    </tr>\n",
       "    <tr>\n",
       "      <th>18</th>\n",
       "      <td>A survey of the literature published in Englis...</td>\n",
       "      <td>[Frank Episale]</td>\n",
       "      <td>2012-04-01</td>\n",
       "      <td>research-article</td>\n",
       "      <td>article</td>\n",
       "      <td>[LITERATURE REVIEW Gender, Tradition, and Cult...</td>\n",
       "      <td>http://www.jstor.org/stable/23359546</td>\n",
       "      <td>[{'name': 'issn', 'value': '07425457'}, {'name...</td>\n",
       "      <td>Asian Theatre Journal</td>\n",
       "      <td>1</td>\n",
       "      <td>...</td>\n",
       "      <td>[Arts - Art history, Arts - Performing arts]</td>\n",
       "      <td>Gender, Tradition, and Culture in Translation:...</td>\n",
       "      <td>http://www.jstor.org/stable/23359546</td>\n",
       "      <td>29</td>\n",
       "      <td>9266</td>\n",
       "      <td>0</td>\n",
       "      <td>[]</td>\n",
       "      <td>[]</td>\n",
       "      <td>NaN</td>\n",
       "      <td>2010</td>\n",
       "    </tr>\n",
       "  </tbody>\n",
       "</table>\n",
       "<p>5 rows × 30 columns</p>\n",
       "</div>"
      ],
      "text/plain": [
       "                                             abstract              creator  \\\n",
       "10  This article investigates the practices of iti...  [Alexander Rocklin]   \n",
       "12                                                NaN     [CHUNG-KANG KIM]   \n",
       "13                                                NaN   [Matthew J. Lavin]   \n",
       "14  A disquieting window panel shows the crucified...     [Corine Schleif]   \n",
       "18  A survey of the literature published in Englis...      [Frank Episale]   \n",
       "\n",
       "   datePublished        docSubType  docType  \\\n",
       "10    2015-09-01  research-article  article   \n",
       "12    2015-09-01  research-article  article   \n",
       "13    2011-01-01  research-article  article   \n",
       "14    2014-01-01  research-article  article   \n",
       "18    2012-04-01  research-article  article   \n",
       "\n",
       "                                             fullText  \\\n",
       "10  [Obeah and the Politics of Religion's Making a...   \n",
       "12  [Nation, Subculture, and Queer Representation:...   \n",
       "13  [\"The Door of Opportunity\" by Southwestern Eng...   \n",
       "14  [The Crucifixion with Virtues in Stained Glass...   \n",
       "18  [LITERATURE REVIEW Gender, Tradition, and Cult...   \n",
       "\n",
       "                                      id  \\\n",
       "10  http://www.jstor.org/stable/24488181   \n",
       "12  http://www.jstor.org/stable/24616518   \n",
       "13  http://www.jstor.org/stable/43025266   \n",
       "14  http://www.jstor.org/stable/24191440   \n",
       "18  http://www.jstor.org/stable/23359546   \n",
       "\n",
       "                                           identifier  \\\n",
       "10  [{'name': 'issn', 'value': '00027189'}, {'name...   \n",
       "12  [{'name': 'issn', 'value': '10434070'}, {'name...   \n",
       "13  [{'name': 'issn', 'value': '00433462'}, {'name...   \n",
       "14  [{'name': 'issn', 'value': '00754250'}, {'name...   \n",
       "18  [{'name': 'issn', 'value': '07425457'}, {'name...   \n",
       "\n",
       "                                       isPartOf issueNumber  ...  \\\n",
       "10  Journal of the American Academy of Religion           3  ...   \n",
       "12          Journal of the History of Sexuality           3  ...   \n",
       "13                  Western American Literature           4  ...   \n",
       "14                     Journal of Glass Studies         NaN  ...   \n",
       "18                        Asian Theatre Journal           1  ...   \n",
       "\n",
       "                                          tdmCategory  \\\n",
       "10                              [Religion - Theology]   \n",
       "12  [Arts - Performing arts, Philosophy - Applied ...   \n",
       "13  [Arts - Literature, Philosophy - Applied philo...   \n",
       "14       [Arts - Art history, Arts - Performing arts]   \n",
       "18       [Arts - Art history, Arts - Performing arts]   \n",
       "\n",
       "                                                title  \\\n",
       "10  Obeah and the Politics of Religion's Making an...   \n",
       "12  Nation, Subculture, and Queer Representation: ...   \n",
       "13  Clean Hands and an Iron Face: Frontier Masculi...   \n",
       "14  The Crucifixion with Virtues in Stained Glass:...   \n",
       "18  Gender, Tradition, and Culture in Translation:...   \n",
       "\n",
       "                                     url volumeNumber wordCount numMatches  \\\n",
       "10  http://www.jstor.org/stable/24488181           83     11337          0   \n",
       "12  http://www.jstor.org/stable/24616518           24     10736          0   \n",
       "13  http://www.jstor.org/stable/43025266           45      8406          0   \n",
       "14  http://www.jstor.org/stable/24191440           56     12566          0   \n",
       "18  http://www.jstor.org/stable/23359546           29      9266          0   \n",
       "\n",
       "   Locations in A  Locations in B subTitle Decade  \n",
       "10             []              []      NaN   2010  \n",
       "12             []              []      NaN   2010  \n",
       "13             []              []      NaN   2010  \n",
       "14             []              []      NaN   2010  \n",
       "18             []              []      NaN   2010  \n",
       "\n",
       "[5 rows x 30 columns]"
      ]
     },
     "execution_count": 56,
     "metadata": {},
     "output_type": "execute_result"
    }
   ],
   "source": [
    "orig = pd.read_json('nocite.json')\n",
    "orig['Decade'] = orig['publicationYear'] - (orig['publicationYear'] % 10)\n",
    "df = orig[orig['Decade']==2010]\n",
    "df.head()"
   ]
  },
  {
   "cell_type": "code",
   "execution_count": 57,
   "metadata": {
    "collapsed": true
   },
   "outputs": [],
   "source": [
    "# Adapted from text-matcher\n",
    "class Text: \n",
    "    def __init__(self, filename): \n",
    "        self.filename = filename\n",
    "        tokenizer = nltk.RegexpTokenizer('[a-zA-Z]\\w+\\'?\\w*') # A custom regex tokenizer. \n",
    "        spans = list(tokenizer.span_tokenize(self.text))\n",
    "        # Take note of how many spans there are in the text\n",
    "        self.length = spans[-1][-1] \n",
    "        \n",
    "    @property\n",
    "    def text(self):\n",
    "        \"\"\" Reads the file in memory. \"\"\"\n",
    "        f = open(self.filename, encoding='utf-8', errors='ignore')\n",
    "        return f.read() \n",
    "\n",
    "    @property\n",
    "    def tokens(self, removeStopwords=True): \n",
    "        \"\"\" Tokenizes the text, breaking it up into words, removing punctuation. \"\"\"\n",
    "        tokenizer = nltk.RegexpTokenizer('[a-zA-Z]\\w+\\'?\\w*') # A custom regex tokenizer. \n",
    "        spans = list(tokenizer.span_tokenize(self.text))\n",
    "        # Take note of how many spans there are in the text\n",
    "        self.length = spans[-1][-1] \n",
    "        tokens = tokenizer.tokenize(self.text)\n",
    "        tokens = [ token.lower() for token in tokens ] # make them lowercase\n",
    "        if not removeStopwords: \n",
    "            self.spans = spans\n",
    "            return tokens\n",
    "        tokenSpans = list(zip(tokens, spans)) # zip it up\n",
    "        stopwords = nltk.corpus.stopwords.words('english') # get stopwords\n",
    "        tokenSpans = [ token for token in tokenSpans if token[0] not in stopwords ] # remove stopwords from zip\n",
    "        self.spans = [ x[1] for x in tokenSpans ] # unzip; get spans\n",
    "        return [ x[0] for x in tokenSpans ] # unzip; get tokens"
   ]
  },
  {
   "cell_type": "code",
   "execution_count": 58,
   "metadata": {
    "collapsed": false
   },
   "outputs": [],
   "source": [
    "mm = Text('nocite_pages.txt')"
   ]
  },
  {
   "cell_type": "code",
   "execution_count": 59,
   "metadata": {
    "collapsed": false
   },
   "outputs": [
    {
     "name": "stdout",
     "output_type": "stream",
     "text": [
      "510344\n"
     ]
    },
    {
     "name": "stderr",
     "output_type": "stream",
     "text": [
      "/var/folders/_g/ykvg1w8n5g7f967fyjqxrpgc0000gn/T/ipykernel_32735/807644614.py:11: DeprecationWarning: `np.int` is a deprecated alias for the builtin `int`. To silence this warning, use `int` by itself. Doing this will not modify any behavior and is safe. When replacing `np.int`, you may wish to use e.g. `np.int64` or `np.int32` to specify the precision. If you wish to review your current use, check the release note link for additional information.\n",
      "Deprecated in NumPy 1.20; for more details and guidance: https://numpy.org/devdocs/release/1.20.0-notes.html#deprecations\n",
      "  tally = np.zeros(textALength, dtype=np.int)\n"
     ]
    }
   ],
   "source": [
    "# Get the size of the text. \n",
    "textALength = mm.length\n",
    "\n",
    "# I don't know why, but without the offset the novel ends too soon,\n",
    "# with \"unvisited tomb.\" This fixes it. \n",
    "offset = 2\n",
    "textALength += offset\n",
    "print(textALength)\n",
    "\n",
    "# Make an empty array the size of the text. \n",
    "tally = np.zeros(textALength, dtype=np.int)"
   ]
  },
  {
   "cell_type": "code",
   "execution_count": 60,
   "metadata": {
    "collapsed": false
   },
   "outputs": [],
   "source": [
    "# Read the locations from the CSV file, and literally evaluate them into lists. \n",
    "locations = df['Locations in A']\n",
    "#locations = locations.apply(literal_eval)"
   ]
  },
  {
   "cell_type": "code",
   "execution_count": 61,
   "metadata": {
    "collapsed": false
   },
   "outputs": [],
   "source": [
    "# Tally up every time a letter in the novel is quoted. \n",
    "for article in locations: \n",
    "    for locRange in article: \n",
    "         for i in range(locRange[0], min(locRange[1]+1, len(tally))):\n",
    "                tally[i] += 1"
   ]
  },
  {
   "cell_type": "code",
   "execution_count": 62,
   "metadata": {
    "collapsed": false
   },
   "outputs": [],
   "source": [
    "# Make a color list in hex for all the values in the tally. \n",
    "# Let's hope there aren't too many. \n",
    "colors = list(np.arange(5,75,70/(tally.max()+1)))\n",
    "colorList = colors"
   ]
  },
  {
   "cell_type": "code",
   "execution_count": 63,
   "metadata": {
    "collapsed": false
   },
   "outputs": [],
   "source": [
    "# Create a CSS Stylesheet for each color value in the map. \n",
    "colorCSS = \"\"\n",
    "for i, color in zip(range(0, tally.max()+1), colorList): \n",
    "    colorCSS += \".c-%s { font-size: %spx; }\\n\" % (i, color)"
   ]
  },
  {
   "cell_type": "code",
   "execution_count": 64,
   "metadata": {
    "collapsed": false
   },
   "outputs": [],
   "source": [
    "n = 50\n",
    "\n",
    "checkpoints = np.linspace(0, textALength, n).round()\n",
    "checkpoints = [int(point) for point in checkpoints]"
   ]
  },
  {
   "cell_type": "code",
   "execution_count": 65,
   "metadata": {
    "collapsed": false
   },
   "outputs": [],
   "source": [
    "def span(val): \n",
    "    return '<span class=\"c-%s\">' % val\n",
    "\n",
    "previousVal = None\n",
    "for i, valChar in enumerate(zip(tally, mm.text)):\n",
    "    val, char = valChar[0], valChar[1]\n",
    "    if previousVal == None: \n",
    "        # First character. \n",
    "        out = '<span class=\"c-%s\">' % val\n",
    "    elif val != previousVal: \n",
    "        out += '</span><span class=\"c-%s\">' % val\n",
    "    if i in checkpoints: \n",
    "        out += '<a name=\"b-%s\"></a>' % checkpoints.index(i)\n",
    "    out += char\n",
    "    previousVal = val"
   ]
  },
  {
   "cell_type": "code",
   "execution_count": null,
   "metadata": {
    "collapsed": true
   },
   "outputs": [],
   "source": [
    "html = \"\"\"<!DOCTYPE html>\n",
    "<html>\n",
    "<head>\n",
    "  <link href=\"https://fonts.googleapis.com/css?family=Raleway\" rel=\"stylesheet\"> \n",
    "  <style>\n",
    "  pre { \n",
    "      font-family: Raleway, serif; \n",
    "    }\n",
    "  main { \n",
    "      width: 40em; \n",
    "      margin: 2em auto; \n",
    "  }\n",
    "  %s\n",
    "  </style>\n",
    "  \"\"\" % (colorCSS)\n",
    "html += \"\"\"\n",
    "  </head>\n",
    "  <body><main><pre>%s</pre></main></body></html>\n",
    "  \"\"\" % (out)"
   ]
  },
  {
   "cell_type": "code",
   "execution_count": null,
   "metadata": {
    "collapsed": false
   },
   "outputs": [],
   "source": [
    "with open('nocite_2010.html', 'w') as f: \n",
    "    f.write(html)\n",
    "    f.close()"
   ]
  }
 ],
 "metadata": {
  "kernelspec": {
   "display_name": "Python 3.8.8 ('base')",
   "language": "python",
   "name": "python3"
  },
  "language_info": {
   "codemirror_mode": {
    "name": "ipython",
    "version": 3
   },
   "file_extension": ".py",
   "mimetype": "text/x-python",
   "name": "python",
   "nbconvert_exporter": "python",
   "pygments_lexer": "ipython3",
   "version": "3.10.2"
  },
  "vscode": {
   "interpreter": {
    "hash": "40d3a090f54c6569ab1632332b64b2c03c39dcf918b08424e98f38b5ae0af88f"
   }
  }
 },
 "nbformat": 4,
 "nbformat_minor": 0
}
